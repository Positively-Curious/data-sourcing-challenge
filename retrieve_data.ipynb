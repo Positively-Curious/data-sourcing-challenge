{
 "cells": [
  {
   "cell_type": "markdown",
   "metadata": {},
   "source": [
    "### Import Required Libraries and Set Up Environment Variables"
   ]
  },
  {
   "cell_type": "code",
   "execution_count": 37,
   "metadata": {},
   "outputs": [],
   "source": [
    "# Dependencies\n",
    "import requests\n",
    "import time\n",
    "from dotenv import load_dotenv\n",
    "import os\n",
    "import pandas as pd\n",
    "import json\n",
    "import os\n",
    "from datetime import datetime\n",
    "## Load the NASA_API_KEY from the env file\n",
    "load_dotenv()\n",
    "NASA_API_KEY = os.getenv(\"NASA_API_KEY\")"
   ]
  },
  {
   "cell_type": "markdown",
   "metadata": {},
   "source": [
    "### CME Data"
   ]
  },
  {
   "cell_type": "code",
   "execution_count": 38,
   "metadata": {},
   "outputs": [],
   "source": [
    "# Set the base URL to NASA's DONKI API:\n",
    "base_url = \"https://api.nasa.gov/DONKI/\"\n",
    "\n",
    "# Set the specifier for CMEs:\n",
    "CME = \"CME\"\n",
    "\n",
    "# Search for CMEs published between a begin and end date\n",
    "startDate = \"2013-05-01\"\n",
    "end_date   = \"2024-05-01\"\n",
    "\n",
    "# Build URL for CME\n",
    "cme_query_url = f\"{base_url}{CME}?startDate={startDate}&endDate={end_date}&api_key={NASA_API_KEY}\"\n"
   ]
  },
  {
   "cell_type": "code",
   "execution_count": null,
   "metadata": {},
   "outputs": [],
   "source": [
    "# Make a \"GET\" request for the CME URL and store it in a variable named cme_response\n",
    "cme_response = requests.get(cme_query_url)\n",
    "print(cme_response)"
   ]
  },
  {
   "cell_type": "code",
   "execution_count": null,
   "metadata": {},
   "outputs": [],
   "source": [
    "# Convert the response variable to json and store it as a variable named cme_json\n",
    "cme_json = cme_response.json()\n"
   ]
  },
  {
   "cell_type": "code",
   "execution_count": null,
   "metadata": {
    "scrolled": true
   },
   "outputs": [],
   "source": [
    "# Preview the first result in JSON format\n",
    "# Use json.dumps with argument indent=4 to format data\n",
    "\n",
    "print(json.dumps(cme_json[0], indent=4))\n"
   ]
  },
  {
   "cell_type": "code",
   "execution_count": null,
   "metadata": {},
   "outputs": [],
   "source": [
    "# Convert cme_json to a Pandas DataFrame  \n",
    "cme = pd.DataFrame(cme_json)\n",
    "cme.head()"
   ]
  },
  {
   "cell_type": "code",
   "execution_count": null,
   "metadata": {},
   "outputs": [],
   "source": [
    "# Keep only the activityID, startTime, linkedEvents columns\n",
    "\n",
    "cme = cme[['activityID', 'startTime', 'linkedEvents']]\n",
    "cme.head()"
   ]
  },
  {
   "cell_type": "code",
   "execution_count": null,
   "metadata": {},
   "outputs": [],
   "source": [
    "# Notice that the linkedEvents column allows us to identify the corresponding GST\n",
    "# Remove rows with missing 'linkedEvents' since we won't be able to assign these to GSTs\n",
    "cme = cme.dropna(subset=['linkedEvents'])\n",
    "cme.head()"
   ]
  },
  {
   "cell_type": "code",
   "execution_count": null,
   "metadata": {},
   "outputs": [],
   "source": [
    "# Notice that the linkedEvents sometimes contains multiple events per row\n",
    "# Write a nested for loop that iterates first over each row in the cme DataFrame (using the index)\n",
    "# and then iterates over the values in 'linkedEvents' \n",
    "# and adds the elements individually to a list of dictionaries where each row is one element \n",
    "\n",
    "# Initialize an empty list to store the expanded rows\n",
    "expanded_rows = []\n",
    "\n",
    "# Iterate over each index in the DataFrame\n",
    "for i in cme.index:\n",
    "      \n",
    "    activityID       = cme.loc[i, 'activityID']    # Get the corresponding value from 'activityID'\n",
    "    startTime        = cme.loc[i, 'startTime']     # Get the corresponding value from 'startTime'    \n",
    "    linkedEvents     = cme.loc[i, 'linkedEvents']  # Get the list of dictionaries in 'linkedEvents'\n",
    "\n",
    "    try:\n",
    "\n",
    "        # Iterate over each dictionary in the list\n",
    "        for item in linkedEvents:\n",
    "    \n",
    "        # Append a new dictionary to the expanded_rows list for each dictionary item and corresponding 'activityID' and 'startTime' value\n",
    "         expanded_rows.append({'activityID': activityID, 'startTime': startTime, 'linkedEvents': item})\n",
    "    except:\n",
    "        print('missing activity')\n",
    "        \n",
    "# Create a new DataFrame from the expanded rows\n",
    "cme_for_loop = pd.DataFrame(expanded_rows)\n",
    "cme_for_loop.head()"
   ]
  },
  {
   "cell_type": "code",
   "execution_count": null,
   "metadata": {},
   "outputs": [],
   "source": [
    "# Create a function called extract_activityID_from_dict that takes a dict as input such as in linkedEvents\n",
    "# and verify below that it works as expected using one row from linkedEvents as an example\n",
    "# Be sure to use a try and except block to handle errors\n",
    "\n",
    "def extract_activityID_from_dict(input_dict):\n",
    "\n",
    "    try:\n",
    "        # Attempt to extract the 'activityID' from the input dictionary\n",
    "        return input_dict['activityID']\n",
    "\n",
    "    except (ValueError, TypeError) as e:\n",
    "        # Handle the case where 'activityID' is not found or input is not a dict\n",
    "        return None  \n",
    "\n",
    "        # Log the error or print it for debugging\n",
    "\n",
    "        return\n",
    "\n",
    "extract_activityID_from_dict(cme_for_loop.loc[0,'linkedEvents'])\n"
   ]
  },
  {
   "cell_type": "code",
   "execution_count": null,
   "metadata": {},
   "outputs": [],
   "source": [
    "# Apply this function to each row in the 'linkedEvents' column (you can use apply() and a lambda function)\n",
    "# and create a new column called 'GST_ActivityID' using loc indexer:\n",
    "cme['GST_ActivityID'] = cme['linkedEvents'].apply(lambda x: extract_activityID_from_dict(x) if isinstance(x, dict) else None)\n",
    "cme.loc[:, 'GST_ActivityID'] = cme['linkedEvents'].apply(lambda x: extract_activityID_from_dict(x) if isinstance(x, dict) else None)\n",
    "print(cme[['linkedEvents', 'GST_ActivityID']])"
   ]
  },
  {
   "cell_type": "code",
   "execution_count": null,
   "metadata": {},
   "outputs": [],
   "source": [
    "# Remove rows with missing GST_ActivityID, since we can't assign them to GSTs:\n",
    "cme = cme.dropna(subset=['GST_ActivityID'])\n",
    "print(cme[['linkedEvents', 'GST_ActivityID']])"
   ]
  },
  {
   "cell_type": "code",
   "execution_count": null,
   "metadata": {},
   "outputs": [],
   "source": [
    "# print out the datatype of each column in this DataFrame:\n",
    "print(cme.dtypes)\n"
   ]
  },
  {
   "cell_type": "code",
   "execution_count": null,
   "metadata": {},
   "outputs": [],
   "source": [
    "# Convert the 'GST_ActivityID' column to string format \n",
    "cme['GST_ActivityID'] = cme['GST_ActivityID'].astype(str)\n",
    "\n",
    "\n",
    "# Convert startTime to datetime format  \n",
    "cme['startTime'] = cme.to_datetime(cme['startTime'])\n",
    "\n",
    "# Rename startTime to startTime_CME and activityID to cmeID\n",
    "cme.rename(columns={'startTime': 'startTime_CME', 'activityID': 'cmeID'}, inplace=True)\n",
    "\n",
    "# Drop linkedEvents\n",
    "cme.drop(columns=['linkedEvents'], inplace=True)\n",
    "\n",
    "# Verify that all steps were executed correctly\n",
    "# 1. Check column names\n",
    "print(\"Column names:\", cme.columns)\n",
    "\n",
    "# 2. Check data types\n",
    "print(\"Data types:\\n\", cme.dtypes)\n",
    "\n",
    "# 3. Check if 'linkedEvents' column is dropped\n",
    "if 'linkedEvents' not in cme.columns:\n",
    "    print(\"'linkedEvents' column has been dropped successfully.\")\n",
    "else:\n",
    "    print(\"'linkedEvents' column is still present.\")\n"
   ]
  },
  {
   "cell_type": "code",
   "execution_count": null,
   "metadata": {},
   "outputs": [],
   "source": [
    "# We are only interested in CMEs related to GSTs so keep only rows where the GST_ActivityID column contains 'GST'\n",
    "# use the method 'contains()' from the str library.  \n",
    "cme = cme[cme['GST_ActivityID'].str.contains('GST', na=False)]\n",
    "print(cme)"
   ]
  },
  {
   "cell_type": "markdown",
   "metadata": {},
   "source": [
    "### GST Data"
   ]
  },
  {
   "cell_type": "code",
   "execution_count": null,
   "metadata": {},
   "outputs": [],
   "source": [
    "# Set the base URL to NASA's DONKI API:\n",
    "base_url = \"https://api.nasa.gov/DONKI/\"\n",
    "\n",
    "# Set the specifier for Geomagnetic Storms (GST):\n",
    "GST = \"GST\"\n",
    "\n",
    "# Search for GSTs between a begin and end date\n",
    "startDate = \"2013-05-01\"\n",
    "end_date   = \"2024-05-01\"\n",
    "\n",
    "# Build URL for GST\n",
    "gst_query_url = f\"{base_url}{GST}?startDate={startDate}&endDate={end_date}&api_key={NASA_API_KEY}\"\n"
   ]
  },
  {
   "cell_type": "code",
   "execution_count": null,
   "metadata": {},
   "outputs": [],
   "source": [
    "# Make a \"GET\" request for the GST URL and store it in a variable named gst_response\n",
    "gst_response = requests.get(gst_query_url)\n",
    "print(gst_response)"
   ]
  },
  {
   "cell_type": "code",
   "execution_count": null,
   "metadata": {},
   "outputs": [],
   "source": [
    "# Convert the response variable to json and store it as a variable named gst_json\n",
    "gst_json = gst_response.json()"
   ]
  },
  {
   "cell_type": "code",
   "execution_count": null,
   "metadata": {},
   "outputs": [],
   "source": [
    "# Convert the response variable to json and store it as a variable named gst_json\n",
    "# Format the first result in JSON with indentation for readability\n",
    "print(json.dumps(gst_json[0], indent=4))"
   ]
  },
  {
   "cell_type": "code",
   "execution_count": null,
   "metadata": {},
   "outputs": [],
   "source": [
    "# Convert gst_json to a Pandas DataFrame  \n",
    "gst = pd.DataFrame(gst_json)\n",
    "gst.head()"
   ]
  },
  {
   "cell_type": "code",
   "execution_count": null,
   "metadata": {},
   "outputs": [],
   "source": [
    "# Keep only the columns: activityID, startTime, linkedEvents\n",
    "gst = gst[['gstID', 'startTime', 'linkedEvents']]\n",
    "gst.head()"
   ]
  },
  {
   "cell_type": "code",
   "execution_count": null,
   "metadata": {},
   "outputs": [],
   "source": [
    "# Notice that the linkedEvents column allows us to identify the corresponding CME\n",
    "# Remove rows with missing 'linkedEvents' since we won't be able to assign these to CME\n",
    "gst = gst.dropna(subset=['linkedEvents'])\n",
    "gst.head()"
   ]
  },
  {
   "cell_type": "code",
   "execution_count": null,
   "metadata": {},
   "outputs": [],
   "source": [
    "# Notice that the linkedEvents sometimes contains multiple events per row\n",
    "# Use the explode method to ensure that each row is one element. Ensure to reset the index and drop missing values.\n",
    "gst_exploded = gst.explode('linkedEvents')\n",
    "\n",
    "# Reset the index\n",
    "gst_exploded.reset_index(drop=True, inplace=True)\n",
    "\n",
    "# Drop missing values\n",
    "gst_exploded.dropna(subset=['linkedEvents'], inplace=True)\n",
    "\n",
    "# Display the resulting DataFrame\n",
    "print(gst_exploded)"
   ]
  },
  {
   "cell_type": "code",
   "execution_count": null,
   "metadata": {},
   "outputs": [],
   "source": [
    "# Apply the extract_activityID_from_dict function to each row in the 'linkedEvents' column (you can use apply() and a lambda function)\n",
    "# and create a new column called 'CME_ActivityID' using loc indexer:\n",
    "def extract_activityID_from_dict(input_dict):\n",
    "    try:\n",
    "        return input_dict['activityID']  # Adjust this according to your dictionary structure\n",
    "    except (ValueError, TypeError) as e:\n",
    "        return None  # Return None if there's an error\n",
    "\n",
    "gst['CME_ActivityID'] = gst['linkedEvents'].apply(lambda x: extract_activityID_from_dict(x))\n",
    "print(gst)\n",
    "\n",
    "\n",
    "# Remove rows with missing CME_ActivityID, since we can't assign them to CMEs:\n",
    "gst.dropna(subset=['CME_ActivityID'], inplace=True)\n",
    "print(gst)"
   ]
  },
  {
   "cell_type": "code",
   "execution_count": null,
   "metadata": {},
   "outputs": [],
   "source": [
    "# Convert the 'gstID' column to string format \n",
    "gst['gstID'] = gst['gstID'].astype(str)\n",
    "\n",
    "\n",
    "# Convert startTime to datetime format  \n",
    "gst['startTime'] = pd.to_datetime(gst['startTime'])\n",
    "\n",
    "\n",
    "# Rename startTime to startTime_GST \n",
    "gst.rename(columns={'startTime': 'startTime_GST'}, inplace=True)\n",
    "\n",
    "\n",
    "# Drop linkedEvents\n",
    "gst.drop(columns=['linkedEvents'], inplace=True)\n",
    "\n",
    "# Verify that all steps were executed correctly\n",
    "# 1. Check column names\n",
    "print(\"Column names:\", gst.columns)\n",
    "\n",
    "# 2. Check data types\n",
    "print(\"Data types:\\n\", gst.dtypes)\n",
    "\n",
    "# 3. Check if 'linkedEvents' column is dropped\n",
    "if 'linkedEvents' not in gst.columns:\n",
    "    print(\"'linkedEvents' column has been dropped successfully.\")\n",
    "else:\n",
    "    print(\"'linkedEvents' column is still present.\")"
   ]
  },
  {
   "cell_type": "code",
   "execution_count": null,
   "metadata": {},
   "outputs": [],
   "source": [
    "# We are only interested in GSTs related to CMEs so keep only rows where the CME_ActivityID column contains 'CME'\n",
    "# use the method 'contains()' from the str library.  \n",
    "gst = gst[gst['CME_ActivityID'].str.contains('CME', na=False)]\n",
    "print(gst)"
   ]
  },
  {
   "cell_type": "markdown",
   "metadata": {},
   "source": [
    "### Merge both datatsets"
   ]
  },
  {
   "cell_type": "code",
   "execution_count": null,
   "metadata": {},
   "outputs": [],
   "source": [
    "# Now merge both datasets using 'gstID' and 'CME_ActivityID' for gst and 'GST_ActivityID' and 'cmeID' for cme. Use the 'left_on' and 'right_on' specifiers.\n",
    "merged_df = pd.merge(gst, cme, \n",
    "                     left_on=['gstID', 'CME_ActivityID'], \n",
    "                     right_on=['GST_ActivityID', 'cmeID'], \n",
    "                     how='outer')\n",
    "\n",
    "print(merged_df.shape)"
   ]
  },
  {
   "cell_type": "code",
   "execution_count": null,
   "metadata": {},
   "outputs": [],
   "source": [
    "# Verify that the new DataFrame has the same number of rows as cme and gst\n",
    "# Check the number of rows in the original DataFrames\n",
    "cme_rows = cme.shape[0]\n",
    "gst_rows = gst.shape[0]\n",
    "\n",
    "# Check the number of rows in the merged DataFrame\n",
    "merged_rows = merged_df.shape[0]\n",
    "\n",
    "# Print the results\n",
    "print(f\"Number of rows in cme: {cme_rows}\")\n",
    "print(f\"Number of rows in gst: {gst_rows}\")\n",
    "print(f\"Number of rows in merged DataFrame: {merged_rows}\")\n",
    "\n",
    "# Verify if the number of rows in the merged DataFrame matches the original DataFrames\n",
    "if merged_rows == cme_rows + gst_rows:\n",
    "    print(\"The merged DataFrame has the expected number of rows.\")\n",
    "else:\n",
    "    print(\"The merged DataFrame does not have the expected number of rows.\")"
   ]
  },
  {
   "cell_type": "markdown",
   "metadata": {},
   "source": [
    "### Computing the time it takes for a CME to cause a GST"
   ]
  },
  {
   "cell_type": "code",
   "execution_count": null,
   "metadata": {},
   "outputs": [],
   "source": [
    "# Compute the time diff between startTime_GST and startTime_CME by creating a new column called `timeDiff`.\n",
    "merged_df['startTime_gst'] = pd.to_datetime(df['startTime_gst'])\n",
    "merged_df['startTime_cme'] = pd.to_datetime(df['startTime_cme'])\n",
    "\n",
    "merged_df['timeDiff'] = merged_df['startTime_gst'] - merged_df['startTime_cme']\n",
    "print(merged_df[['startTime_gst', 'startTime_cme', 'timeDiff']].head())\n"
   ]
  },
  {
   "cell_type": "code",
   "execution_count": null,
   "metadata": {},
   "outputs": [],
   "source": [
    "# Use describe() to compute the mean and median time \n",
    "# that it takes for a CME to cause a GST. \n",
    "# Use describe() to compute summary statistics\n",
    "time_diff_stats = merged_df['timeDiff'].describe()\n",
    "\n",
    "# To specifically get the mean and median\n",
    "mean_time_diff = time_diff_stats['mean']\n",
    "median_time_diff = time_diff_stats['50%']  # The 50th percentile is the median\n",
    "\n",
    "print(f\"Mean time difference: {mean_time_diff}\")\n",
    "print(f\"Median time difference: {median_time_diff}\")"
   ]
  },
  {
   "cell_type": "markdown",
   "metadata": {},
   "source": [
    "### Exporting data in csv format"
   ]
  },
  {
   "cell_type": "code",
   "execution_count": null,
   "metadata": {},
   "outputs": [],
   "source": [
    "# Export data to CSV without the index\n",
    "merged_df.to_csv(\"output_file.csv\", index=False)"
   ]
  }
 ],
 "metadata": {
  "kernelspec": {
   "display_name": "Python 3 (ipykernel)",
   "language": "python",
   "name": "python3"
  },
  "language_info": {
   "codemirror_mode": {
    "name": "ipython",
    "version": 3
   },
   "file_extension": ".py",
   "mimetype": "text/x-python",
   "name": "python",
   "nbconvert_exporter": "python",
   "pygments_lexer": "ipython3",
   "version": "3.10.14"
  },
  "varInspector": {
   "cols": {
    "lenName": 16,
    "lenType": 16,
    "lenVar": 40
   },
   "kernels_config": {
    "python": {
     "delete_cmd_postfix": "",
     "delete_cmd_prefix": "del ",
     "library": "var_list.py",
     "varRefreshCmd": "print(var_dic_list())"
    },
    "r": {
     "delete_cmd_postfix": ") ",
     "delete_cmd_prefix": "rm(",
     "library": "var_list.r",
     "varRefreshCmd": "cat(var_dic_list()) "
    }
   },
   "types_to_exclude": [
    "module",
    "function",
    "builtin_function_or_method",
    "instance",
    "_Feature"
   ],
   "window_display": false
  }
 },
 "nbformat": 4,
 "nbformat_minor": 4
}
