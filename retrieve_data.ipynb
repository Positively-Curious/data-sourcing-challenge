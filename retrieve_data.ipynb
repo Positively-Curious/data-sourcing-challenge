{
 "cells": [
  {
   "cell_type": "markdown",
   "metadata": {},
   "source": [
    "### Import Required Libraries and Set Up Environment Variables"
   ]
  },
  {
   "cell_type": "code",
   "execution_count": 1,
   "metadata": {},
   "outputs": [],
   "source": [
    "# Dependencies\n",
    "import requests\n",
    "import time\n",
    "from dotenv import load_dotenv\n",
    "import os\n",
    "import pandas as pd\n",
    "import json\n",
    "import os\n",
    "from datetime import datetime\n",
    "## Load the NASA_API_KEY from the env file\n",
    "load_dotenv()\n",
    "NASA_API_KEY = os.getenv(\"NASA_API_KEY\")"
   ]
  },
  {
   "cell_type": "markdown",
   "metadata": {},
   "source": [
    "### CME Data"
   ]
  },
  {
   "cell_type": "code",
   "execution_count": 2,
   "metadata": {},
   "outputs": [],
   "source": [
    "# Set the base URL to NASA's DONKI API:\n",
    "base_url = \"https://api.nasa.gov/DONKI/\"\n",
    "\n",
    "# Set the specifier for CMEs:\n",
    "CME = \"CME\"\n",
    "\n",
    "# Search for CMEs published between a begin and end date\n",
    "startDate = \"2013-05-01\"\n",
    "end_date   = \"2024-05-01\"\n",
    "\n",
    "# Build URL for CME\n",
    "cme_query_url = f\"{base_url}{CME}?startDate={startDate}&endDate={end_date}&api_key={NASA_API_KEY}\"\n"
   ]
  },
  {
   "cell_type": "code",
   "execution_count": 3,
   "metadata": {},
   "outputs": [
    {
     "name": "stdout",
     "output_type": "stream",
     "text": [
      "<Response [200]>\n"
     ]
    }
   ],
   "source": [
    "# Make a \"GET\" request for the CME URL and store it in a variable named cme_response\n",
    "cme_response = requests.get(cme_query_url)\n",
    "print(cme_response)"
   ]
  },
  {
   "cell_type": "code",
   "execution_count": 4,
   "metadata": {},
   "outputs": [],
   "source": [
    "# Convert the response variable to json and store it as a variable named cme_json\n",
    "cme_json = cme_response.json()\n"
   ]
  },
  {
   "cell_type": "code",
   "execution_count": 5,
   "metadata": {
    "scrolled": true
   },
   "outputs": [
    {
     "name": "stdout",
     "output_type": "stream",
     "text": [
      "{\n",
      "    \"activityID\": \"2013-05-01T03:12:00-CME-001\",\n",
      "    \"catalog\": \"M2M_CATALOG\",\n",
      "    \"startTime\": \"2013-05-01T03:12Z\",\n",
      "    \"instruments\": [\n",
      "        {\n",
      "            \"displayName\": \"SOHO: LASCO/C2\"\n",
      "        },\n",
      "        {\n",
      "            \"displayName\": \"SOHO: LASCO/C3\"\n",
      "        },\n",
      "        {\n",
      "            \"displayName\": \"STEREO A: SECCHI/COR2\"\n",
      "        },\n",
      "        {\n",
      "            \"displayName\": \"STEREO B: SECCHI/COR2\"\n",
      "        }\n",
      "    ],\n",
      "    \"sourceLocation\": \"\",\n",
      "    \"activeRegionNum\": null,\n",
      "    \"note\": \"\",\n",
      "    \"submissionTime\": \"2013-08-07T16:54Z\",\n",
      "    \"versionId\": 1,\n",
      "    \"link\": \"https://webtools.ccmc.gsfc.nasa.gov/DONKI/view/CME/2349/-1\",\n",
      "    \"cmeAnalyses\": [\n",
      "        {\n",
      "            \"isMostAccurate\": true,\n",
      "            \"time21_5\": \"2013-05-01T07:07Z\",\n",
      "            \"latitude\": 12.0,\n",
      "            \"longitude\": -120.0,\n",
      "            \"halfAngle\": 36.0,\n",
      "            \"speed\": 860.0,\n",
      "            \"type\": \"C\",\n",
      "            \"featureCode\": \"null\",\n",
      "            \"imageType\": null,\n",
      "            \"measurementTechnique\": \"null\",\n",
      "            \"note\": \"\",\n",
      "            \"levelOfData\": 0,\n",
      "            \"tilt\": null,\n",
      "            \"minorHalfWidth\": null,\n",
      "            \"speedMeasuredAtHeight\": null,\n",
      "            \"submissionTime\": \"2013-08-07T16:54Z\",\n",
      "            \"link\": \"https://webtools.ccmc.gsfc.nasa.gov/DONKI/view/CMEAnalysis/2350/-1\",\n",
      "            \"enlilList\": [\n",
      "                {\n",
      "                    \"modelCompletionTime\": \"2013-05-01T08:32Z\",\n",
      "                    \"au\": 2.0,\n",
      "                    \"estimatedShockArrivalTime\": null,\n",
      "                    \"estimatedDuration\": null,\n",
      "                    \"rmin_re\": null,\n",
      "                    \"kp_18\": null,\n",
      "                    \"kp_90\": null,\n",
      "                    \"kp_135\": null,\n",
      "                    \"kp_180\": null,\n",
      "                    \"isEarthGB\": false,\n",
      "                    \"link\": \"https://webtools.ccmc.gsfc.nasa.gov/DONKI/view/WSA-ENLIL/2348/-1\",\n",
      "                    \"impactList\": [\n",
      "                        {\n",
      "                            \"isGlancingBlow\": false,\n",
      "                            \"location\": \"STEREO B\",\n",
      "                            \"arrivalTime\": \"2013-05-04T06:16Z\"\n",
      "                        }\n",
      "                    ],\n",
      "                    \"cmeIDs\": [\n",
      "                        \"2013-05-01T03:12:00-CME-001\"\n",
      "                    ]\n",
      "                }\n",
      "            ]\n",
      "        }\n",
      "    ],\n",
      "    \"linkedEvents\": [\n",
      "        {\n",
      "            \"activityID\": \"2013-05-04T04:52:00-IPS-001\"\n",
      "        }\n",
      "    ]\n",
      "}\n"
     ]
    }
   ],
   "source": [
    "# Preview the first result in JSON format\n",
    "# Use json.dumps with argument indent=4 to format data\n",
    "\n",
    "print(json.dumps(cme_json[0], indent=4))\n"
   ]
  },
  {
   "cell_type": "code",
   "execution_count": 6,
   "metadata": {},
   "outputs": [
    {
     "data": {
      "text/html": [
       "<div>\n",
       "<style scoped>\n",
       "    .dataframe tbody tr th:only-of-type {\n",
       "        vertical-align: middle;\n",
       "    }\n",
       "\n",
       "    .dataframe tbody tr th {\n",
       "        vertical-align: top;\n",
       "    }\n",
       "\n",
       "    .dataframe thead th {\n",
       "        text-align: right;\n",
       "    }\n",
       "</style>\n",
       "<table border=\"1\" class=\"dataframe\">\n",
       "  <thead>\n",
       "    <tr style=\"text-align: right;\">\n",
       "      <th></th>\n",
       "      <th>activityID</th>\n",
       "      <th>catalog</th>\n",
       "      <th>startTime</th>\n",
       "      <th>instruments</th>\n",
       "      <th>sourceLocation</th>\n",
       "      <th>activeRegionNum</th>\n",
       "      <th>note</th>\n",
       "      <th>submissionTime</th>\n",
       "      <th>versionId</th>\n",
       "      <th>link</th>\n",
       "      <th>cmeAnalyses</th>\n",
       "      <th>linkedEvents</th>\n",
       "    </tr>\n",
       "  </thead>\n",
       "  <tbody>\n",
       "    <tr>\n",
       "      <th>0</th>\n",
       "      <td>2013-05-01T03:12:00-CME-001</td>\n",
       "      <td>M2M_CATALOG</td>\n",
       "      <td>2013-05-01T03:12Z</td>\n",
       "      <td>[{'displayName': 'SOHO: LASCO/C2'}, {'displayN...</td>\n",
       "      <td></td>\n",
       "      <td>NaN</td>\n",
       "      <td></td>\n",
       "      <td>2013-08-07T16:54Z</td>\n",
       "      <td>1</td>\n",
       "      <td>https://webtools.ccmc.gsfc.nasa.gov/DONKI/view...</td>\n",
       "      <td>[{'isMostAccurate': True, 'time21_5': '2013-05...</td>\n",
       "      <td>[{'activityID': '2013-05-04T04:52:00-IPS-001'}]</td>\n",
       "    </tr>\n",
       "    <tr>\n",
       "      <th>1</th>\n",
       "      <td>2013-05-02T05:24:00-CME-001</td>\n",
       "      <td>M2M_CATALOG</td>\n",
       "      <td>2013-05-02T05:24Z</td>\n",
       "      <td>[{'displayName': 'SOHO: LASCO/C2'}, {'displayN...</td>\n",
       "      <td></td>\n",
       "      <td>NaN</td>\n",
       "      <td></td>\n",
       "      <td>2013-08-07T16:56Z</td>\n",
       "      <td>1</td>\n",
       "      <td>https://webtools.ccmc.gsfc.nasa.gov/DONKI/view...</td>\n",
       "      <td>[{'isMostAccurate': True, 'time21_5': '2013-05...</td>\n",
       "      <td>None</td>\n",
       "    </tr>\n",
       "    <tr>\n",
       "      <th>2</th>\n",
       "      <td>2013-05-02T14:36:00-CME-001</td>\n",
       "      <td>M2M_CATALOG</td>\n",
       "      <td>2013-05-02T14:36Z</td>\n",
       "      <td>[{'displayName': 'SOHO: LASCO/C2'}, {'displayN...</td>\n",
       "      <td></td>\n",
       "      <td>NaN</td>\n",
       "      <td></td>\n",
       "      <td>2013-08-07T16:57Z</td>\n",
       "      <td>1</td>\n",
       "      <td>https://webtools.ccmc.gsfc.nasa.gov/DONKI/view...</td>\n",
       "      <td>[{'isMostAccurate': True, 'time21_5': '2013-05...</td>\n",
       "      <td>None</td>\n",
       "    </tr>\n",
       "    <tr>\n",
       "      <th>3</th>\n",
       "      <td>2013-05-03T18:00:00-CME-001</td>\n",
       "      <td>M2M_CATALOG</td>\n",
       "      <td>2013-05-03T18:00Z</td>\n",
       "      <td>[{'displayName': 'SOHO: LASCO/C2'}, {'displayN...</td>\n",
       "      <td></td>\n",
       "      <td>NaN</td>\n",
       "      <td></td>\n",
       "      <td>2013-08-07T17:01Z</td>\n",
       "      <td>1</td>\n",
       "      <td>https://webtools.ccmc.gsfc.nasa.gov/DONKI/view...</td>\n",
       "      <td>[{'isMostAccurate': True, 'time21_5': '2013-05...</td>\n",
       "      <td>None</td>\n",
       "    </tr>\n",
       "    <tr>\n",
       "      <th>4</th>\n",
       "      <td>2013-05-03T22:36:00-CME-001</td>\n",
       "      <td>M2M_CATALOG</td>\n",
       "      <td>2013-05-03T22:36Z</td>\n",
       "      <td>[{'displayName': 'SOHO: LASCO/C2'}, {'displayN...</td>\n",
       "      <td></td>\n",
       "      <td>NaN</td>\n",
       "      <td></td>\n",
       "      <td>2013-08-08T13:40Z</td>\n",
       "      <td>1</td>\n",
       "      <td>https://webtools.ccmc.gsfc.nasa.gov/DONKI/view...</td>\n",
       "      <td>[{'isMostAccurate': True, 'time21_5': '2013-05...</td>\n",
       "      <td>[{'activityID': '2013-05-07T04:37:00-IPS-001'}]</td>\n",
       "    </tr>\n",
       "  </tbody>\n",
       "</table>\n",
       "</div>"
      ],
      "text/plain": [
       "                    activityID      catalog          startTime  \\\n",
       "0  2013-05-01T03:12:00-CME-001  M2M_CATALOG  2013-05-01T03:12Z   \n",
       "1  2013-05-02T05:24:00-CME-001  M2M_CATALOG  2013-05-02T05:24Z   \n",
       "2  2013-05-02T14:36:00-CME-001  M2M_CATALOG  2013-05-02T14:36Z   \n",
       "3  2013-05-03T18:00:00-CME-001  M2M_CATALOG  2013-05-03T18:00Z   \n",
       "4  2013-05-03T22:36:00-CME-001  M2M_CATALOG  2013-05-03T22:36Z   \n",
       "\n",
       "                                         instruments sourceLocation  \\\n",
       "0  [{'displayName': 'SOHO: LASCO/C2'}, {'displayN...                  \n",
       "1  [{'displayName': 'SOHO: LASCO/C2'}, {'displayN...                  \n",
       "2  [{'displayName': 'SOHO: LASCO/C2'}, {'displayN...                  \n",
       "3  [{'displayName': 'SOHO: LASCO/C2'}, {'displayN...                  \n",
       "4  [{'displayName': 'SOHO: LASCO/C2'}, {'displayN...                  \n",
       "\n",
       "   activeRegionNum note     submissionTime  versionId  \\\n",
       "0              NaN       2013-08-07T16:54Z          1   \n",
       "1              NaN       2013-08-07T16:56Z          1   \n",
       "2              NaN       2013-08-07T16:57Z          1   \n",
       "3              NaN       2013-08-07T17:01Z          1   \n",
       "4              NaN       2013-08-08T13:40Z          1   \n",
       "\n",
       "                                                link  \\\n",
       "0  https://webtools.ccmc.gsfc.nasa.gov/DONKI/view...   \n",
       "1  https://webtools.ccmc.gsfc.nasa.gov/DONKI/view...   \n",
       "2  https://webtools.ccmc.gsfc.nasa.gov/DONKI/view...   \n",
       "3  https://webtools.ccmc.gsfc.nasa.gov/DONKI/view...   \n",
       "4  https://webtools.ccmc.gsfc.nasa.gov/DONKI/view...   \n",
       "\n",
       "                                         cmeAnalyses  \\\n",
       "0  [{'isMostAccurate': True, 'time21_5': '2013-05...   \n",
       "1  [{'isMostAccurate': True, 'time21_5': '2013-05...   \n",
       "2  [{'isMostAccurate': True, 'time21_5': '2013-05...   \n",
       "3  [{'isMostAccurate': True, 'time21_5': '2013-05...   \n",
       "4  [{'isMostAccurate': True, 'time21_5': '2013-05...   \n",
       "\n",
       "                                      linkedEvents  \n",
       "0  [{'activityID': '2013-05-04T04:52:00-IPS-001'}]  \n",
       "1                                             None  \n",
       "2                                             None  \n",
       "3                                             None  \n",
       "4  [{'activityID': '2013-05-07T04:37:00-IPS-001'}]  "
      ]
     },
     "execution_count": 6,
     "metadata": {},
     "output_type": "execute_result"
    }
   ],
   "source": [
    "# Convert cme_json to a Pandas DataFrame  \n",
    "cme = pd.DataFrame(cme_json)\n",
    "cme.head()"
   ]
  },
  {
   "cell_type": "code",
   "execution_count": 7,
   "metadata": {},
   "outputs": [
    {
     "data": {
      "text/html": [
       "<div>\n",
       "<style scoped>\n",
       "    .dataframe tbody tr th:only-of-type {\n",
       "        vertical-align: middle;\n",
       "    }\n",
       "\n",
       "    .dataframe tbody tr th {\n",
       "        vertical-align: top;\n",
       "    }\n",
       "\n",
       "    .dataframe thead th {\n",
       "        text-align: right;\n",
       "    }\n",
       "</style>\n",
       "<table border=\"1\" class=\"dataframe\">\n",
       "  <thead>\n",
       "    <tr style=\"text-align: right;\">\n",
       "      <th></th>\n",
       "      <th>activityID</th>\n",
       "      <th>startTime</th>\n",
       "      <th>linkedEvents</th>\n",
       "    </tr>\n",
       "  </thead>\n",
       "  <tbody>\n",
       "    <tr>\n",
       "      <th>0</th>\n",
       "      <td>2013-05-01T03:12:00-CME-001</td>\n",
       "      <td>2013-05-01T03:12Z</td>\n",
       "      <td>[{'activityID': '2013-05-04T04:52:00-IPS-001'}]</td>\n",
       "    </tr>\n",
       "    <tr>\n",
       "      <th>1</th>\n",
       "      <td>2013-05-02T05:24:00-CME-001</td>\n",
       "      <td>2013-05-02T05:24Z</td>\n",
       "      <td>None</td>\n",
       "    </tr>\n",
       "    <tr>\n",
       "      <th>2</th>\n",
       "      <td>2013-05-02T14:36:00-CME-001</td>\n",
       "      <td>2013-05-02T14:36Z</td>\n",
       "      <td>None</td>\n",
       "    </tr>\n",
       "    <tr>\n",
       "      <th>3</th>\n",
       "      <td>2013-05-03T18:00:00-CME-001</td>\n",
       "      <td>2013-05-03T18:00Z</td>\n",
       "      <td>None</td>\n",
       "    </tr>\n",
       "    <tr>\n",
       "      <th>4</th>\n",
       "      <td>2013-05-03T22:36:00-CME-001</td>\n",
       "      <td>2013-05-03T22:36Z</td>\n",
       "      <td>[{'activityID': '2013-05-07T04:37:00-IPS-001'}]</td>\n",
       "    </tr>\n",
       "  </tbody>\n",
       "</table>\n",
       "</div>"
      ],
      "text/plain": [
       "                    activityID          startTime  \\\n",
       "0  2013-05-01T03:12:00-CME-001  2013-05-01T03:12Z   \n",
       "1  2013-05-02T05:24:00-CME-001  2013-05-02T05:24Z   \n",
       "2  2013-05-02T14:36:00-CME-001  2013-05-02T14:36Z   \n",
       "3  2013-05-03T18:00:00-CME-001  2013-05-03T18:00Z   \n",
       "4  2013-05-03T22:36:00-CME-001  2013-05-03T22:36Z   \n",
       "\n",
       "                                      linkedEvents  \n",
       "0  [{'activityID': '2013-05-04T04:52:00-IPS-001'}]  \n",
       "1                                             None  \n",
       "2                                             None  \n",
       "3                                             None  \n",
       "4  [{'activityID': '2013-05-07T04:37:00-IPS-001'}]  "
      ]
     },
     "execution_count": 7,
     "metadata": {},
     "output_type": "execute_result"
    }
   ],
   "source": [
    "# Keep only the activityID, startTime, linkedEvents columns\n",
    "\n",
    "cme = cme[['activityID', 'startTime', 'linkedEvents']]\n",
    "cme.head()"
   ]
  },
  {
   "cell_type": "code",
   "execution_count": 8,
   "metadata": {},
   "outputs": [
    {
     "data": {
      "text/html": [
       "<div>\n",
       "<style scoped>\n",
       "    .dataframe tbody tr th:only-of-type {\n",
       "        vertical-align: middle;\n",
       "    }\n",
       "\n",
       "    .dataframe tbody tr th {\n",
       "        vertical-align: top;\n",
       "    }\n",
       "\n",
       "    .dataframe thead th {\n",
       "        text-align: right;\n",
       "    }\n",
       "</style>\n",
       "<table border=\"1\" class=\"dataframe\">\n",
       "  <thead>\n",
       "    <tr style=\"text-align: right;\">\n",
       "      <th></th>\n",
       "      <th>activityID</th>\n",
       "      <th>startTime</th>\n",
       "      <th>linkedEvents</th>\n",
       "    </tr>\n",
       "  </thead>\n",
       "  <tbody>\n",
       "    <tr>\n",
       "      <th>0</th>\n",
       "      <td>2013-05-01T03:12:00-CME-001</td>\n",
       "      <td>2013-05-01T03:12Z</td>\n",
       "      <td>[{'activityID': '2013-05-04T04:52:00-IPS-001'}]</td>\n",
       "    </tr>\n",
       "    <tr>\n",
       "      <th>4</th>\n",
       "      <td>2013-05-03T22:36:00-CME-001</td>\n",
       "      <td>2013-05-03T22:36Z</td>\n",
       "      <td>[{'activityID': '2013-05-07T04:37:00-IPS-001'}]</td>\n",
       "    </tr>\n",
       "    <tr>\n",
       "      <th>7</th>\n",
       "      <td>2013-05-09T19:29:00-CME-001</td>\n",
       "      <td>2013-05-09T19:29Z</td>\n",
       "      <td>[{'activityID': '2013-05-12T23:30:00-IPS-001'}]</td>\n",
       "    </tr>\n",
       "    <tr>\n",
       "      <th>10</th>\n",
       "      <td>2013-05-13T02:54:00-CME-001</td>\n",
       "      <td>2013-05-13T02:54Z</td>\n",
       "      <td>[{'activityID': '2013-05-13T01:53:00-FLR-001'}...</td>\n",
       "    </tr>\n",
       "    <tr>\n",
       "      <th>13</th>\n",
       "      <td>2013-05-13T16:18:00-CME-001</td>\n",
       "      <td>2013-05-13T16:18Z</td>\n",
       "      <td>[{'activityID': '2013-05-13T15:40:00-FLR-001'}...</td>\n",
       "    </tr>\n",
       "  </tbody>\n",
       "</table>\n",
       "</div>"
      ],
      "text/plain": [
       "                     activityID          startTime  \\\n",
       "0   2013-05-01T03:12:00-CME-001  2013-05-01T03:12Z   \n",
       "4   2013-05-03T22:36:00-CME-001  2013-05-03T22:36Z   \n",
       "7   2013-05-09T19:29:00-CME-001  2013-05-09T19:29Z   \n",
       "10  2013-05-13T02:54:00-CME-001  2013-05-13T02:54Z   \n",
       "13  2013-05-13T16:18:00-CME-001  2013-05-13T16:18Z   \n",
       "\n",
       "                                         linkedEvents  \n",
       "0     [{'activityID': '2013-05-04T04:52:00-IPS-001'}]  \n",
       "4     [{'activityID': '2013-05-07T04:37:00-IPS-001'}]  \n",
       "7     [{'activityID': '2013-05-12T23:30:00-IPS-001'}]  \n",
       "10  [{'activityID': '2013-05-13T01:53:00-FLR-001'}...  \n",
       "13  [{'activityID': '2013-05-13T15:40:00-FLR-001'}...  "
      ]
     },
     "execution_count": 8,
     "metadata": {},
     "output_type": "execute_result"
    }
   ],
   "source": [
    "# Notice that the linkedEvents column allows us to identify the corresponding GST\n",
    "# Remove rows with missing 'linkedEvents' since we won't be able to assign these to GSTs\n",
    "cme = cme.dropna(subset=['linkedEvents'])\n",
    "cme.head()"
   ]
  },
  {
   "cell_type": "code",
   "execution_count": 9,
   "metadata": {},
   "outputs": [
    {
     "data": {
      "text/html": [
       "<div>\n",
       "<style scoped>\n",
       "    .dataframe tbody tr th:only-of-type {\n",
       "        vertical-align: middle;\n",
       "    }\n",
       "\n",
       "    .dataframe tbody tr th {\n",
       "        vertical-align: top;\n",
       "    }\n",
       "\n",
       "    .dataframe thead th {\n",
       "        text-align: right;\n",
       "    }\n",
       "</style>\n",
       "<table border=\"1\" class=\"dataframe\">\n",
       "  <thead>\n",
       "    <tr style=\"text-align: right;\">\n",
       "      <th></th>\n",
       "      <th>activityID</th>\n",
       "      <th>startTime</th>\n",
       "      <th>linkedEvents</th>\n",
       "    </tr>\n",
       "  </thead>\n",
       "  <tbody>\n",
       "    <tr>\n",
       "      <th>0</th>\n",
       "      <td>2013-05-01T03:12:00-CME-001</td>\n",
       "      <td>2013-05-01T03:12Z</td>\n",
       "      <td>{'activityID': '2013-05-04T04:52:00-IPS-001'}</td>\n",
       "    </tr>\n",
       "    <tr>\n",
       "      <th>1</th>\n",
       "      <td>2013-05-03T22:36:00-CME-001</td>\n",
       "      <td>2013-05-03T22:36Z</td>\n",
       "      <td>{'activityID': '2013-05-07T04:37:00-IPS-001'}</td>\n",
       "    </tr>\n",
       "    <tr>\n",
       "      <th>2</th>\n",
       "      <td>2013-05-09T19:29:00-CME-001</td>\n",
       "      <td>2013-05-09T19:29Z</td>\n",
       "      <td>{'activityID': '2013-05-12T23:30:00-IPS-001'}</td>\n",
       "    </tr>\n",
       "    <tr>\n",
       "      <th>3</th>\n",
       "      <td>2013-05-13T02:54:00-CME-001</td>\n",
       "      <td>2013-05-13T02:54Z</td>\n",
       "      <td>{'activityID': '2013-05-13T01:53:00-FLR-001'}</td>\n",
       "    </tr>\n",
       "    <tr>\n",
       "      <th>4</th>\n",
       "      <td>2013-05-13T02:54:00-CME-001</td>\n",
       "      <td>2013-05-13T02:54Z</td>\n",
       "      <td>{'activityID': '2013-05-13T04:12:00-SEP-001'}</td>\n",
       "    </tr>\n",
       "  </tbody>\n",
       "</table>\n",
       "</div>"
      ],
      "text/plain": [
       "                    activityID          startTime  \\\n",
       "0  2013-05-01T03:12:00-CME-001  2013-05-01T03:12Z   \n",
       "1  2013-05-03T22:36:00-CME-001  2013-05-03T22:36Z   \n",
       "2  2013-05-09T19:29:00-CME-001  2013-05-09T19:29Z   \n",
       "3  2013-05-13T02:54:00-CME-001  2013-05-13T02:54Z   \n",
       "4  2013-05-13T02:54:00-CME-001  2013-05-13T02:54Z   \n",
       "\n",
       "                                    linkedEvents  \n",
       "0  {'activityID': '2013-05-04T04:52:00-IPS-001'}  \n",
       "1  {'activityID': '2013-05-07T04:37:00-IPS-001'}  \n",
       "2  {'activityID': '2013-05-12T23:30:00-IPS-001'}  \n",
       "3  {'activityID': '2013-05-13T01:53:00-FLR-001'}  \n",
       "4  {'activityID': '2013-05-13T04:12:00-SEP-001'}  "
      ]
     },
     "execution_count": 9,
     "metadata": {},
     "output_type": "execute_result"
    }
   ],
   "source": [
    "# Notice that the linkedEvents sometimes contains multiple events per row\n",
    "# Write a nested for loop that iterates first over each row in the cme DataFrame (using the index)\n",
    "# and then iterates over the values in 'linkedEvents' \n",
    "# and adds the elements individually to a list of dictionaries where each row is one element \n",
    "\n",
    "# Initialize an empty list to store the expanded rows\n",
    "expanded_rows = []\n",
    "\n",
    "# Iterate over each index in the DataFrame\n",
    "for i in cme.index:\n",
    "      \n",
    "    activityID       = cme.loc[i, 'activityID']    # Get the corresponding value from 'activityID'\n",
    "    startTime        = cme.loc[i, 'startTime']     # Get the corresponding value from 'startTime'    \n",
    "    linkedEvents     = cme.loc[i, 'linkedEvents']  # Get the list of dictionaries in 'linkedEvents'\n",
    "\n",
    "    try:\n",
    "\n",
    "        # Iterate over each dictionary in the list\n",
    "        for item in linkedEvents:\n",
    "    \n",
    "        # Append a new dictionary to the expanded_rows list for each dictionary item and corresponding 'activityID' and 'startTime' value\n",
    "         expanded_rows.append({'activityID': activityID, 'startTime': startTime, 'linkedEvents': item})\n",
    "    except:\n",
    "        print('missing activity')\n",
    "        \n",
    "# Create a new DataFrame from the expanded rows\n",
    "cme_for_loop = pd.DataFrame(expanded_rows)\n",
    "cme_for_loop.head()"
   ]
  },
  {
   "cell_type": "code",
   "execution_count": 10,
   "metadata": {},
   "outputs": [
    {
     "data": {
      "text/plain": [
       "'2013-05-04T04:52:00-IPS-001'"
      ]
     },
     "execution_count": 10,
     "metadata": {},
     "output_type": "execute_result"
    }
   ],
   "source": [
    "# Create a function called extract_activityID_from_dict that takes a dict as input such as in linkedEvents\n",
    "# and verify below that it works as expected using one row from linkedEvents as an example\n",
    "# Be sure to use a try and except block to handle errors\n",
    "\n",
    "def extract_activityID_from_dict(input_dict):\n",
    "\n",
    "    try:\n",
    "        # Attempt to extract the 'activityID' from the input dictionary\n",
    "        return input_dict['activityID']\n",
    "\n",
    "    except (ValueError, TypeError) as e:\n",
    "        # Handle the case where 'activityID' is not found or input is not a dict\n",
    "        return None  \n",
    "\n",
    "        # Log the error or print it for debugging\n",
    "\n",
    "        return\n",
    "\n",
    "extract_activityID_from_dict(cme_for_loop.loc[0,'linkedEvents'])\n"
   ]
  },
  {
   "cell_type": "code",
   "execution_count": 11,
   "metadata": {},
   "outputs": [
    {
     "name": "stdout",
     "output_type": "stream",
     "text": [
      "                                           linkedEvents GST_ActivityID\n",
      "0       [{'activityID': '2013-05-04T04:52:00-IPS-001'}]           None\n",
      "4       [{'activityID': '2013-05-07T04:37:00-IPS-001'}]           None\n",
      "7       [{'activityID': '2013-05-12T23:30:00-IPS-001'}]           None\n",
      "10    [{'activityID': '2013-05-13T01:53:00-FLR-001'}...           None\n",
      "13    [{'activityID': '2013-05-13T15:40:00-FLR-001'}...           None\n",
      "...                                                 ...            ...\n",
      "5496    [{'activityID': '2024-04-26T00:17:00-IPS-001'}]           None\n",
      "5499    [{'activityID': '2024-04-24T14:02:00-FLR-001'}]           None\n",
      "5504    [{'activityID': '2024-04-25T17:03:00-FLR-001'}]           None\n",
      "5516    [{'activityID': '2024-04-30T00:46:00-FLR-001'}]           None\n",
      "5523    [{'activityID': '2024-05-01T22:26:00-FLR-001'}]           None\n",
      "\n",
      "[1023 rows x 2 columns]\n"
     ]
    }
   ],
   "source": [
    "# Apply this function to each row in the 'linkedEvents' column (you can use apply() and a lambda function)\n",
    "# and create a new column called 'GST_ActivityID' using loc indexer:\n",
    "cme['GST_ActivityID'] = cme['linkedEvents'].apply(lambda x: extract_activityID_from_dict(x) if isinstance(x, dict) else None)\n",
    "cme.loc[:, 'GST_ActivityID'] = cme['linkedEvents'].apply(lambda x: extract_activityID_from_dict(x) if isinstance(x, dict) else None)\n",
    "print(cme[['linkedEvents', 'GST_ActivityID']])"
   ]
  },
  {
   "cell_type": "code",
   "execution_count": 12,
   "metadata": {},
   "outputs": [
    {
     "name": "stdout",
     "output_type": "stream",
     "text": [
      "Empty DataFrame\n",
      "Columns: [linkedEvents, GST_ActivityID]\n",
      "Index: []\n"
     ]
    }
   ],
   "source": [
    "# Remove rows with missing GST_ActivityID, since we can't assign them to GSTs:\n",
    "cme = cme.dropna(subset=['GST_ActivityID'])\n",
    "print(cme[['linkedEvents', 'GST_ActivityID']])"
   ]
  },
  {
   "cell_type": "code",
   "execution_count": 13,
   "metadata": {},
   "outputs": [
    {
     "name": "stdout",
     "output_type": "stream",
     "text": [
      "activityID        object\n",
      "startTime         object\n",
      "linkedEvents      object\n",
      "GST_ActivityID    object\n",
      "dtype: object\n"
     ]
    }
   ],
   "source": [
    "# print out the datatype of each column in this DataFrame:\n",
    "print(cme.dtypes)\n"
   ]
  },
  {
   "cell_type": "code",
   "execution_count": 15,
   "metadata": {},
   "outputs": [
    {
     "name": "stdout",
     "output_type": "stream",
     "text": [
      "Column names: Index(['cmeID', 'startTime_CME', 'GST_ActivityID'], dtype='object')\n",
      "Data types:\n",
      " cmeID                     object\n",
      "startTime_CME     datetime64[ns]\n",
      "GST_ActivityID            object\n",
      "dtype: object\n",
      "'linkedEvents' column has been dropped successfully.\n"
     ]
    }
   ],
   "source": [
    "# Convert the 'GST_ActivityID' column to string format \n",
    "cme['GST_ActivityID'] = cme['GST_ActivityID'].astype(str)\n",
    "\n",
    "\n",
    "# Convert startTime to datetime format  \n",
    "cme['startTime'] = pd.to_datetime(cme['startTime'])\n",
    "\n",
    "# Rename startTime to startTime_CME and activityID to cmeID\n",
    "cme.rename(columns={'startTime': 'startTime_CME', 'activityID': 'cmeID'}, inplace=True)\n",
    "\n",
    "# Drop linkedEvents\n",
    "cme.drop(columns=['linkedEvents'], inplace=True)\n",
    "\n",
    "# Verify that all steps were executed correctly\n",
    "# 1. Check column names\n",
    "print(\"Column names:\", cme.columns)\n",
    "\n",
    "# 2. Check data types\n",
    "print(\"Data types:\\n\", cme.dtypes)\n",
    "\n",
    "# 3. Check if 'linkedEvents' column is dropped\n",
    "if 'linkedEvents' not in cme.columns:\n",
    "    print(\"'linkedEvents' column has been dropped successfully.\")\n",
    "else:\n",
    "    print(\"'linkedEvents' column is still present.\")\n"
   ]
  },
  {
   "cell_type": "code",
   "execution_count": 16,
   "metadata": {},
   "outputs": [
    {
     "name": "stdout",
     "output_type": "stream",
     "text": [
      "Empty DataFrame\n",
      "Columns: [cmeID, startTime_CME, GST_ActivityID]\n",
      "Index: []\n"
     ]
    }
   ],
   "source": [
    "# We are only interested in CMEs related to GSTs so keep only rows where the GST_ActivityID column contains 'GST'\n",
    "# use the method 'contains()' from the str library.  \n",
    "cme = cme[cme['GST_ActivityID'].str.contains('GST', na=False)]\n",
    "print(cme)"
   ]
  },
  {
   "cell_type": "markdown",
   "metadata": {},
   "source": [
    "### GST Data"
   ]
  },
  {
   "cell_type": "code",
   "execution_count": 17,
   "metadata": {},
   "outputs": [],
   "source": [
    "# Set the base URL to NASA's DONKI API:\n",
    "base_url = \"https://api.nasa.gov/DONKI/\"\n",
    "\n",
    "# Set the specifier for Geomagnetic Storms (GST):\n",
    "GST = \"GST\"\n",
    "\n",
    "# Search for GSTs between a begin and end date\n",
    "startDate = \"2013-05-01\"\n",
    "end_date   = \"2024-05-01\"\n",
    "\n",
    "# Build URL for GST\n",
    "gst_query_url = f\"{base_url}{GST}?startDate={startDate}&endDate={end_date}&api_key={NASA_API_KEY}\"\n"
   ]
  },
  {
   "cell_type": "code",
   "execution_count": 18,
   "metadata": {},
   "outputs": [
    {
     "name": "stdout",
     "output_type": "stream",
     "text": [
      "<Response [200]>\n"
     ]
    }
   ],
   "source": [
    "# Make a \"GET\" request for the GST URL and store it in a variable named gst_response\n",
    "gst_response = requests.get(gst_query_url)\n",
    "print(gst_response)"
   ]
  },
  {
   "cell_type": "code",
   "execution_count": 19,
   "metadata": {},
   "outputs": [],
   "source": [
    "# Convert the response variable to json and store it as a variable named gst_json\n",
    "gst_json = gst_response.json()"
   ]
  },
  {
   "cell_type": "code",
   "execution_count": 20,
   "metadata": {},
   "outputs": [
    {
     "name": "stdout",
     "output_type": "stream",
     "text": [
      "{\n",
      "    \"gstID\": \"2013-06-01T01:00:00-GST-001\",\n",
      "    \"startTime\": \"2013-06-01T01:00Z\",\n",
      "    \"allKpIndex\": [\n",
      "        {\n",
      "            \"observedTime\": \"2013-06-01T01:00Z\",\n",
      "            \"kpIndex\": 6.0,\n",
      "            \"source\": \"NOAA\"\n",
      "        }\n",
      "    ],\n",
      "    \"link\": \"https://webtools.ccmc.gsfc.nasa.gov/DONKI/view/GST/326/-1\",\n",
      "    \"linkedEvents\": [\n",
      "        {\n",
      "            \"activityID\": \"2013-05-31T15:45:00-HSS-001\"\n",
      "        }\n",
      "    ],\n",
      "    \"submissionTime\": \"2013-07-15T19:26Z\",\n",
      "    \"versionId\": 1\n",
      "}\n"
     ]
    }
   ],
   "source": [
    "# Convert the response variable to json and store it as a variable named gst_json\n",
    "# Format the first result in JSON with indentation for readability\n",
    "print(json.dumps(gst_json[0], indent=4))"
   ]
  },
  {
   "cell_type": "code",
   "execution_count": 21,
   "metadata": {},
   "outputs": [
    {
     "data": {
      "text/html": [
       "<div>\n",
       "<style scoped>\n",
       "    .dataframe tbody tr th:only-of-type {\n",
       "        vertical-align: middle;\n",
       "    }\n",
       "\n",
       "    .dataframe tbody tr th {\n",
       "        vertical-align: top;\n",
       "    }\n",
       "\n",
       "    .dataframe thead th {\n",
       "        text-align: right;\n",
       "    }\n",
       "</style>\n",
       "<table border=\"1\" class=\"dataframe\">\n",
       "  <thead>\n",
       "    <tr style=\"text-align: right;\">\n",
       "      <th></th>\n",
       "      <th>gstID</th>\n",
       "      <th>startTime</th>\n",
       "      <th>allKpIndex</th>\n",
       "      <th>link</th>\n",
       "      <th>linkedEvents</th>\n",
       "      <th>submissionTime</th>\n",
       "      <th>versionId</th>\n",
       "    </tr>\n",
       "  </thead>\n",
       "  <tbody>\n",
       "    <tr>\n",
       "      <th>0</th>\n",
       "      <td>2013-06-01T01:00:00-GST-001</td>\n",
       "      <td>2013-06-01T01:00Z</td>\n",
       "      <td>[{'observedTime': '2013-06-01T01:00Z', 'kpInde...</td>\n",
       "      <td>https://webtools.ccmc.gsfc.nasa.gov/DONKI/view...</td>\n",
       "      <td>[{'activityID': '2013-05-31T15:45:00-HSS-001'}]</td>\n",
       "      <td>2013-07-15T19:26Z</td>\n",
       "      <td>1</td>\n",
       "    </tr>\n",
       "    <tr>\n",
       "      <th>1</th>\n",
       "      <td>2013-06-07T03:00:00-GST-001</td>\n",
       "      <td>2013-06-07T03:00Z</td>\n",
       "      <td>[{'observedTime': '2013-06-07T03:00Z', 'kpInde...</td>\n",
       "      <td>https://webtools.ccmc.gsfc.nasa.gov/DONKI/view...</td>\n",
       "      <td>[{'activityID': '2013-06-02T20:24:00-CME-001'}]</td>\n",
       "      <td>2013-07-15T19:41Z</td>\n",
       "      <td>1</td>\n",
       "    </tr>\n",
       "    <tr>\n",
       "      <th>2</th>\n",
       "      <td>2013-06-29T03:00:00-GST-001</td>\n",
       "      <td>2013-06-29T03:00Z</td>\n",
       "      <td>[{'observedTime': '2013-06-29T03:00Z', 'kpInde...</td>\n",
       "      <td>https://webtools.ccmc.gsfc.nasa.gov/DONKI/view...</td>\n",
       "      <td>None</td>\n",
       "      <td>2013-09-25T04:48Z</td>\n",
       "      <td>2</td>\n",
       "    </tr>\n",
       "    <tr>\n",
       "      <th>3</th>\n",
       "      <td>2013-10-02T03:00:00-GST-001</td>\n",
       "      <td>2013-10-02T03:00Z</td>\n",
       "      <td>[{'observedTime': '2013-10-02T06:00Z', 'kpInde...</td>\n",
       "      <td>https://webtools.ccmc.gsfc.nasa.gov/DONKI/view...</td>\n",
       "      <td>[{'activityID': '2013-09-29T22:40:00-CME-001'}...</td>\n",
       "      <td>2013-10-02T13:23Z</td>\n",
       "      <td>1</td>\n",
       "    </tr>\n",
       "    <tr>\n",
       "      <th>4</th>\n",
       "      <td>2013-12-08T00:00:00-GST-001</td>\n",
       "      <td>2013-12-08T00:00Z</td>\n",
       "      <td>[{'observedTime': '2013-12-08T03:00Z', 'kpInde...</td>\n",
       "      <td>https://webtools.ccmc.gsfc.nasa.gov/DONKI/view...</td>\n",
       "      <td>[{'activityID': '2013-12-04T23:12:00-CME-001'}...</td>\n",
       "      <td>2013-12-08T03:42Z</td>\n",
       "      <td>1</td>\n",
       "    </tr>\n",
       "  </tbody>\n",
       "</table>\n",
       "</div>"
      ],
      "text/plain": [
       "                         gstID          startTime  \\\n",
       "0  2013-06-01T01:00:00-GST-001  2013-06-01T01:00Z   \n",
       "1  2013-06-07T03:00:00-GST-001  2013-06-07T03:00Z   \n",
       "2  2013-06-29T03:00:00-GST-001  2013-06-29T03:00Z   \n",
       "3  2013-10-02T03:00:00-GST-001  2013-10-02T03:00Z   \n",
       "4  2013-12-08T00:00:00-GST-001  2013-12-08T00:00Z   \n",
       "\n",
       "                                          allKpIndex  \\\n",
       "0  [{'observedTime': '2013-06-01T01:00Z', 'kpInde...   \n",
       "1  [{'observedTime': '2013-06-07T03:00Z', 'kpInde...   \n",
       "2  [{'observedTime': '2013-06-29T03:00Z', 'kpInde...   \n",
       "3  [{'observedTime': '2013-10-02T06:00Z', 'kpInde...   \n",
       "4  [{'observedTime': '2013-12-08T03:00Z', 'kpInde...   \n",
       "\n",
       "                                                link  \\\n",
       "0  https://webtools.ccmc.gsfc.nasa.gov/DONKI/view...   \n",
       "1  https://webtools.ccmc.gsfc.nasa.gov/DONKI/view...   \n",
       "2  https://webtools.ccmc.gsfc.nasa.gov/DONKI/view...   \n",
       "3  https://webtools.ccmc.gsfc.nasa.gov/DONKI/view...   \n",
       "4  https://webtools.ccmc.gsfc.nasa.gov/DONKI/view...   \n",
       "\n",
       "                                        linkedEvents     submissionTime  \\\n",
       "0    [{'activityID': '2013-05-31T15:45:00-HSS-001'}]  2013-07-15T19:26Z   \n",
       "1    [{'activityID': '2013-06-02T20:24:00-CME-001'}]  2013-07-15T19:41Z   \n",
       "2                                               None  2013-09-25T04:48Z   \n",
       "3  [{'activityID': '2013-09-29T22:40:00-CME-001'}...  2013-10-02T13:23Z   \n",
       "4  [{'activityID': '2013-12-04T23:12:00-CME-001'}...  2013-12-08T03:42Z   \n",
       "\n",
       "   versionId  \n",
       "0          1  \n",
       "1          1  \n",
       "2          2  \n",
       "3          1  \n",
       "4          1  "
      ]
     },
     "execution_count": 21,
     "metadata": {},
     "output_type": "execute_result"
    }
   ],
   "source": [
    "# Convert gst_json to a Pandas DataFrame  \n",
    "gst = pd.DataFrame(gst_json)\n",
    "gst.head()"
   ]
  },
  {
   "cell_type": "code",
   "execution_count": 22,
   "metadata": {},
   "outputs": [
    {
     "data": {
      "text/html": [
       "<div>\n",
       "<style scoped>\n",
       "    .dataframe tbody tr th:only-of-type {\n",
       "        vertical-align: middle;\n",
       "    }\n",
       "\n",
       "    .dataframe tbody tr th {\n",
       "        vertical-align: top;\n",
       "    }\n",
       "\n",
       "    .dataframe thead th {\n",
       "        text-align: right;\n",
       "    }\n",
       "</style>\n",
       "<table border=\"1\" class=\"dataframe\">\n",
       "  <thead>\n",
       "    <tr style=\"text-align: right;\">\n",
       "      <th></th>\n",
       "      <th>gstID</th>\n",
       "      <th>startTime</th>\n",
       "      <th>linkedEvents</th>\n",
       "    </tr>\n",
       "  </thead>\n",
       "  <tbody>\n",
       "    <tr>\n",
       "      <th>0</th>\n",
       "      <td>2013-06-01T01:00:00-GST-001</td>\n",
       "      <td>2013-06-01T01:00Z</td>\n",
       "      <td>[{'activityID': '2013-05-31T15:45:00-HSS-001'}]</td>\n",
       "    </tr>\n",
       "    <tr>\n",
       "      <th>1</th>\n",
       "      <td>2013-06-07T03:00:00-GST-001</td>\n",
       "      <td>2013-06-07T03:00Z</td>\n",
       "      <td>[{'activityID': '2013-06-02T20:24:00-CME-001'}]</td>\n",
       "    </tr>\n",
       "    <tr>\n",
       "      <th>2</th>\n",
       "      <td>2013-06-29T03:00:00-GST-001</td>\n",
       "      <td>2013-06-29T03:00Z</td>\n",
       "      <td>None</td>\n",
       "    </tr>\n",
       "    <tr>\n",
       "      <th>3</th>\n",
       "      <td>2013-10-02T03:00:00-GST-001</td>\n",
       "      <td>2013-10-02T03:00Z</td>\n",
       "      <td>[{'activityID': '2013-09-29T22:40:00-CME-001'}...</td>\n",
       "    </tr>\n",
       "    <tr>\n",
       "      <th>4</th>\n",
       "      <td>2013-12-08T00:00:00-GST-001</td>\n",
       "      <td>2013-12-08T00:00Z</td>\n",
       "      <td>[{'activityID': '2013-12-04T23:12:00-CME-001'}...</td>\n",
       "    </tr>\n",
       "  </tbody>\n",
       "</table>\n",
       "</div>"
      ],
      "text/plain": [
       "                         gstID          startTime  \\\n",
       "0  2013-06-01T01:00:00-GST-001  2013-06-01T01:00Z   \n",
       "1  2013-06-07T03:00:00-GST-001  2013-06-07T03:00Z   \n",
       "2  2013-06-29T03:00:00-GST-001  2013-06-29T03:00Z   \n",
       "3  2013-10-02T03:00:00-GST-001  2013-10-02T03:00Z   \n",
       "4  2013-12-08T00:00:00-GST-001  2013-12-08T00:00Z   \n",
       "\n",
       "                                        linkedEvents  \n",
       "0    [{'activityID': '2013-05-31T15:45:00-HSS-001'}]  \n",
       "1    [{'activityID': '2013-06-02T20:24:00-CME-001'}]  \n",
       "2                                               None  \n",
       "3  [{'activityID': '2013-09-29T22:40:00-CME-001'}...  \n",
       "4  [{'activityID': '2013-12-04T23:12:00-CME-001'}...  "
      ]
     },
     "execution_count": 22,
     "metadata": {},
     "output_type": "execute_result"
    }
   ],
   "source": [
    "# Keep only the columns: activityID, startTime, linkedEvents\n",
    "gst = gst[['gstID', 'startTime', 'linkedEvents']]\n",
    "gst.head()"
   ]
  },
  {
   "cell_type": "code",
   "execution_count": 23,
   "metadata": {},
   "outputs": [
    {
     "data": {
      "text/html": [
       "<div>\n",
       "<style scoped>\n",
       "    .dataframe tbody tr th:only-of-type {\n",
       "        vertical-align: middle;\n",
       "    }\n",
       "\n",
       "    .dataframe tbody tr th {\n",
       "        vertical-align: top;\n",
       "    }\n",
       "\n",
       "    .dataframe thead th {\n",
       "        text-align: right;\n",
       "    }\n",
       "</style>\n",
       "<table border=\"1\" class=\"dataframe\">\n",
       "  <thead>\n",
       "    <tr style=\"text-align: right;\">\n",
       "      <th></th>\n",
       "      <th>gstID</th>\n",
       "      <th>startTime</th>\n",
       "      <th>linkedEvents</th>\n",
       "    </tr>\n",
       "  </thead>\n",
       "  <tbody>\n",
       "    <tr>\n",
       "      <th>0</th>\n",
       "      <td>2013-06-01T01:00:00-GST-001</td>\n",
       "      <td>2013-06-01T01:00Z</td>\n",
       "      <td>[{'activityID': '2013-05-31T15:45:00-HSS-001'}]</td>\n",
       "    </tr>\n",
       "    <tr>\n",
       "      <th>1</th>\n",
       "      <td>2013-06-07T03:00:00-GST-001</td>\n",
       "      <td>2013-06-07T03:00Z</td>\n",
       "      <td>[{'activityID': '2013-06-02T20:24:00-CME-001'}]</td>\n",
       "    </tr>\n",
       "    <tr>\n",
       "      <th>3</th>\n",
       "      <td>2013-10-02T03:00:00-GST-001</td>\n",
       "      <td>2013-10-02T03:00Z</td>\n",
       "      <td>[{'activityID': '2013-09-29T22:40:00-CME-001'}...</td>\n",
       "    </tr>\n",
       "    <tr>\n",
       "      <th>4</th>\n",
       "      <td>2013-12-08T00:00:00-GST-001</td>\n",
       "      <td>2013-12-08T00:00Z</td>\n",
       "      <td>[{'activityID': '2013-12-04T23:12:00-CME-001'}...</td>\n",
       "    </tr>\n",
       "    <tr>\n",
       "      <th>5</th>\n",
       "      <td>2014-02-19T03:00:00-GST-001</td>\n",
       "      <td>2014-02-19T03:00Z</td>\n",
       "      <td>[{'activityID': '2014-02-16T14:15:00-CME-001'}...</td>\n",
       "    </tr>\n",
       "  </tbody>\n",
       "</table>\n",
       "</div>"
      ],
      "text/plain": [
       "                         gstID          startTime  \\\n",
       "0  2013-06-01T01:00:00-GST-001  2013-06-01T01:00Z   \n",
       "1  2013-06-07T03:00:00-GST-001  2013-06-07T03:00Z   \n",
       "3  2013-10-02T03:00:00-GST-001  2013-10-02T03:00Z   \n",
       "4  2013-12-08T00:00:00-GST-001  2013-12-08T00:00Z   \n",
       "5  2014-02-19T03:00:00-GST-001  2014-02-19T03:00Z   \n",
       "\n",
       "                                        linkedEvents  \n",
       "0    [{'activityID': '2013-05-31T15:45:00-HSS-001'}]  \n",
       "1    [{'activityID': '2013-06-02T20:24:00-CME-001'}]  \n",
       "3  [{'activityID': '2013-09-29T22:40:00-CME-001'}...  \n",
       "4  [{'activityID': '2013-12-04T23:12:00-CME-001'}...  \n",
       "5  [{'activityID': '2014-02-16T14:15:00-CME-001'}...  "
      ]
     },
     "execution_count": 23,
     "metadata": {},
     "output_type": "execute_result"
    }
   ],
   "source": [
    "# Notice that the linkedEvents column allows us to identify the corresponding CME\n",
    "# Remove rows with missing 'linkedEvents' since we won't be able to assign these to CME\n",
    "gst = gst.dropna(subset=['linkedEvents'])\n",
    "gst.head()"
   ]
  },
  {
   "cell_type": "code",
   "execution_count": 24,
   "metadata": {},
   "outputs": [
    {
     "name": "stdout",
     "output_type": "stream",
     "text": [
      "                           gstID          startTime  \\\n",
      "0    2013-06-01T01:00:00-GST-001  2013-06-01T01:00Z   \n",
      "1    2013-06-07T03:00:00-GST-001  2013-06-07T03:00Z   \n",
      "2    2013-10-02T03:00:00-GST-001  2013-10-02T03:00Z   \n",
      "3    2013-10-02T03:00:00-GST-001  2013-10-02T03:00Z   \n",
      "4    2013-10-02T03:00:00-GST-001  2013-10-02T03:00Z   \n",
      "..                           ...                ...   \n",
      "200  2024-03-24T12:00:00-GST-001  2024-03-24T12:00Z   \n",
      "201  2024-03-24T12:00:00-GST-001  2024-03-24T12:00Z   \n",
      "202  2024-03-24T12:00:00-GST-001  2024-03-24T12:00Z   \n",
      "203  2024-04-19T18:00:00-GST-001  2024-04-19T18:00Z   \n",
      "204  2024-04-19T18:00:00-GST-001  2024-04-19T18:00Z   \n",
      "\n",
      "                                      linkedEvents  \n",
      "0    {'activityID': '2013-05-31T15:45:00-HSS-001'}  \n",
      "1    {'activityID': '2013-06-02T20:24:00-CME-001'}  \n",
      "2    {'activityID': '2013-09-29T22:40:00-CME-001'}  \n",
      "3    {'activityID': '2013-10-02T01:54:00-IPS-001'}  \n",
      "4    {'activityID': '2013-10-02T02:47:00-MPC-001'}  \n",
      "..                                             ...  \n",
      "200  {'activityID': '2024-03-23T01:48:00-CME-001'}  \n",
      "201  {'activityID': '2024-03-24T14:10:00-IPS-001'}  \n",
      "202  {'activityID': '2024-03-24T16:25:00-MPC-001'}  \n",
      "203  {'activityID': '2024-04-15T06:48:00-CME-001'}  \n",
      "204  {'activityID': '2024-04-19T04:53:00-IPS-001'}  \n",
      "\n",
      "[205 rows x 3 columns]\n"
     ]
    }
   ],
   "source": [
    "# Notice that the linkedEvents sometimes contains multiple events per row\n",
    "# Use the explode method to ensure that each row is one element. Ensure to reset the index and drop missing values.\n",
    "gst_exploded = gst.explode('linkedEvents')\n",
    "\n",
    "# Reset the index\n",
    "gst_exploded.reset_index(drop=True, inplace=True)\n",
    "\n",
    "# Drop missing values\n",
    "gst_exploded.dropna(subset=['linkedEvents'], inplace=True)\n",
    "\n",
    "# Display the resulting DataFrame\n",
    "print(gst_exploded)"
   ]
  },
  {
   "cell_type": "code",
   "execution_count": 25,
   "metadata": {},
   "outputs": [
    {
     "name": "stdout",
     "output_type": "stream",
     "text": [
      "                           gstID          startTime  \\\n",
      "0    2013-06-01T01:00:00-GST-001  2013-06-01T01:00Z   \n",
      "1    2013-06-07T03:00:00-GST-001  2013-06-07T03:00Z   \n",
      "3    2013-10-02T03:00:00-GST-001  2013-10-02T03:00Z   \n",
      "4    2013-12-08T00:00:00-GST-001  2013-12-08T00:00Z   \n",
      "5    2014-02-19T03:00:00-GST-001  2014-02-19T03:00Z   \n",
      "..                           ...                ...   \n",
      "112  2023-12-18T06:00:00-GST-001  2023-12-18T06:00Z   \n",
      "113  2024-03-03T18:00:00-GST-001  2024-03-03T18:00Z   \n",
      "114  2024-03-23T21:00:00-GST-001  2024-03-23T21:00Z   \n",
      "115  2024-03-24T12:00:00-GST-001  2024-03-24T12:00Z   \n",
      "116  2024-04-19T18:00:00-GST-001  2024-04-19T18:00Z   \n",
      "\n",
      "                                          linkedEvents CME_ActivityID  \n",
      "0      [{'activityID': '2013-05-31T15:45:00-HSS-001'}]           None  \n",
      "1      [{'activityID': '2013-06-02T20:24:00-CME-001'}]           None  \n",
      "3    [{'activityID': '2013-09-29T22:40:00-CME-001'}...           None  \n",
      "4    [{'activityID': '2013-12-04T23:12:00-CME-001'}...           None  \n",
      "5    [{'activityID': '2014-02-16T14:15:00-CME-001'}...           None  \n",
      "..                                                 ...            ...  \n",
      "112  [{'activityID': '2023-12-14T17:38:00-CME-001'}...           None  \n",
      "113  [{'activityID': '2024-02-28T17:48:00-CME-001'}...           None  \n",
      "114  [{'activityID': '2024-03-23T12:49:00-IPS-001'}...           None  \n",
      "115  [{'activityID': '2024-03-23T01:25:00-CME-001'}...           None  \n",
      "116  [{'activityID': '2024-04-15T06:48:00-CME-001'}...           None  \n",
      "\n",
      "[105 rows x 4 columns]\n",
      "Empty DataFrame\n",
      "Columns: [gstID, startTime, linkedEvents, CME_ActivityID]\n",
      "Index: []\n"
     ]
    }
   ],
   "source": [
    "# Apply the extract_activityID_from_dict function to each row in the 'linkedEvents' column (you can use apply() and a lambda function)\n",
    "# and create a new column called 'CME_ActivityID' using loc indexer:\n",
    "def extract_activityID_from_dict(input_dict):\n",
    "    try:\n",
    "        return input_dict['activityID']  # Adjust this according to your dictionary structure\n",
    "    except (ValueError, TypeError) as e:\n",
    "        return None  # Return None if there's an error\n",
    "\n",
    "gst['CME_ActivityID'] = gst['linkedEvents'].apply(lambda x: extract_activityID_from_dict(x))\n",
    "print(gst)\n",
    "\n",
    "\n",
    "# Remove rows with missing CME_ActivityID, since we can't assign them to CMEs:\n",
    "gst.dropna(subset=['CME_ActivityID'], inplace=True)\n",
    "print(gst)"
   ]
  },
  {
   "cell_type": "code",
   "execution_count": 26,
   "metadata": {},
   "outputs": [
    {
     "name": "stdout",
     "output_type": "stream",
     "text": [
      "Column names: Index(['gstID', 'startTime_GST', 'CME_ActivityID'], dtype='object')\n",
      "Data types:\n",
      " gstID                     object\n",
      "startTime_GST     datetime64[ns]\n",
      "CME_ActivityID            object\n",
      "dtype: object\n",
      "'linkedEvents' column has been dropped successfully.\n"
     ]
    }
   ],
   "source": [
    "# Convert the 'gstID' column to string format \n",
    "gst['gstID'] = gst['gstID'].astype(str)\n",
    "\n",
    "\n",
    "# Convert startTime to datetime format  \n",
    "gst['startTime'] = pd.to_datetime(gst['startTime'])\n",
    "\n",
    "\n",
    "# Rename startTime to startTime_GST \n",
    "gst.rename(columns={'startTime': 'startTime_GST'}, inplace=True)\n",
    "\n",
    "\n",
    "# Drop linkedEvents\n",
    "gst.drop(columns=['linkedEvents'], inplace=True)\n",
    "\n",
    "# Verify that all steps were executed correctly\n",
    "# 1. Check column names\n",
    "print(\"Column names:\", gst.columns)\n",
    "\n",
    "# 2. Check data types\n",
    "print(\"Data types:\\n\", gst.dtypes)\n",
    "\n",
    "# 3. Check if 'linkedEvents' column is dropped\n",
    "if 'linkedEvents' not in gst.columns:\n",
    "    print(\"'linkedEvents' column has been dropped successfully.\")\n",
    "else:\n",
    "    print(\"'linkedEvents' column is still present.\")"
   ]
  },
  {
   "cell_type": "code",
   "execution_count": 27,
   "metadata": {},
   "outputs": [
    {
     "name": "stdout",
     "output_type": "stream",
     "text": [
      "Empty DataFrame\n",
      "Columns: [gstID, startTime_GST, CME_ActivityID]\n",
      "Index: []\n"
     ]
    }
   ],
   "source": [
    "# We are only interested in GSTs related to CMEs so keep only rows where the CME_ActivityID column contains 'CME'\n",
    "# use the method 'contains()' from the str library.  \n",
    "gst = gst[gst['CME_ActivityID'].str.contains('CME', na=False)]\n",
    "print(gst)"
   ]
  },
  {
   "cell_type": "markdown",
   "metadata": {},
   "source": [
    "### Merge both datatsets"
   ]
  },
  {
   "cell_type": "code",
   "execution_count": 28,
   "metadata": {},
   "outputs": [
    {
     "name": "stdout",
     "output_type": "stream",
     "text": [
      "(0, 6)\n"
     ]
    }
   ],
   "source": [
    "# Now merge both datasets using 'gstID' and 'CME_ActivityID' for gst and 'GST_ActivityID' and 'cmeID' for cme. Use the 'left_on' and 'right_on' specifiers.\n",
    "merged_df = pd.merge(gst, cme, \n",
    "                     left_on=['gstID', 'CME_ActivityID'], \n",
    "                     right_on=['GST_ActivityID', 'cmeID'], \n",
    "                     how='outer')\n",
    "\n",
    "print(merged_df.shape)"
   ]
  },
  {
   "cell_type": "code",
   "execution_count": 29,
   "metadata": {},
   "outputs": [
    {
     "name": "stdout",
     "output_type": "stream",
     "text": [
      "Number of rows in cme: 0\n",
      "Number of rows in gst: 0\n",
      "Number of rows in merged DataFrame: 0\n",
      "The merged DataFrame has the expected number of rows.\n"
     ]
    }
   ],
   "source": [
    "# Verify that the new DataFrame has the same number of rows as cme and gst\n",
    "# Check the number of rows in the original DataFrames\n",
    "cme_rows = cme.shape[0]\n",
    "gst_rows = gst.shape[0]\n",
    "\n",
    "# Check the number of rows in the merged DataFrame\n",
    "merged_rows = merged_df.shape[0]\n",
    "\n",
    "# Print the results\n",
    "print(f\"Number of rows in cme: {cme_rows}\")\n",
    "print(f\"Number of rows in gst: {gst_rows}\")\n",
    "print(f\"Number of rows in merged DataFrame: {merged_rows}\")\n",
    "\n",
    "# Verify if the number of rows in the merged DataFrame matches the original DataFrames\n",
    "if merged_rows == cme_rows + gst_rows:\n",
    "    print(\"The merged DataFrame has the expected number of rows.\")\n",
    "else:\n",
    "    print(\"The merged DataFrame does not have the expected number of rows.\")"
   ]
  },
  {
   "cell_type": "markdown",
   "metadata": {},
   "source": [
    "### Computing the time it takes for a CME to cause a GST"
   ]
  },
  {
   "cell_type": "code",
   "execution_count": 32,
   "metadata": {},
   "outputs": [
    {
     "name": "stdout",
     "output_type": "stream",
     "text": [
      "Empty DataFrame\n",
      "Columns: [startTime_GST, startTime_CME, timeDiff]\n",
      "Index: []\n"
     ]
    }
   ],
   "source": [
    "# Compute the time diff between startTime_GST and startTime_CME by creating a new column called `timeDiff`.\n",
    "merged_df['startTime_gst'] = pd.to_datetime(merged_df['startTime_GST'])\n",
    "merged_df['startTime_cme'] = pd.to_datetime(merged_df['startTime_CME'])\n",
    "\n",
    "merged_df['timeDiff'] = merged_df['startTime_gst'] - merged_df['startTime_cme']\n",
    "print(merged_df[['startTime_GST', 'startTime_CME', 'timeDiff']].head())\n"
   ]
  },
  {
   "cell_type": "code",
   "execution_count": 33,
   "metadata": {},
   "outputs": [
    {
     "name": "stdout",
     "output_type": "stream",
     "text": [
      "Mean time difference: NaT\n",
      "Median time difference: NaT\n"
     ]
    }
   ],
   "source": [
    "# Use describe() to compute the mean and median time \n",
    "# that it takes for a CME to cause a GST. \n",
    "# Use describe() to compute summary statistics\n",
    "time_diff_stats = merged_df['timeDiff'].describe()\n",
    "\n",
    "# To specifically get the mean and median\n",
    "mean_time_diff = time_diff_stats['mean']\n",
    "median_time_diff = time_diff_stats['50%']  # The 50th percentile is the median\n",
    "\n",
    "print(f\"Mean time difference: {mean_time_diff}\")\n",
    "print(f\"Median time difference: {median_time_diff}\")"
   ]
  },
  {
   "cell_type": "markdown",
   "metadata": {},
   "source": [
    "### Exporting data in csv format"
   ]
  },
  {
   "cell_type": "code",
   "execution_count": 34,
   "metadata": {},
   "outputs": [],
   "source": [
    "# Export data to CSV without the index\n",
    "merged_df.to_csv(\"output_file.csv\", index=False)"
   ]
  },
  {
   "cell_type": "code",
   "execution_count": null,
   "metadata": {},
   "outputs": [],
   "source": []
  }
 ],
 "metadata": {
  "kernelspec": {
   "display_name": "Python 3 (ipykernel)",
   "language": "python",
   "name": "python3"
  },
  "language_info": {
   "codemirror_mode": {
    "name": "ipython",
    "version": 3
   },
   "file_extension": ".py",
   "mimetype": "text/x-python",
   "name": "python",
   "nbconvert_exporter": "python",
   "pygments_lexer": "ipython3",
   "version": "3.10.14"
  },
  "varInspector": {
   "cols": {
    "lenName": 16,
    "lenType": 16,
    "lenVar": 40
   },
   "kernels_config": {
    "python": {
     "delete_cmd_postfix": "",
     "delete_cmd_prefix": "del ",
     "library": "var_list.py",
     "varRefreshCmd": "print(var_dic_list())"
    },
    "r": {
     "delete_cmd_postfix": ") ",
     "delete_cmd_prefix": "rm(",
     "library": "var_list.r",
     "varRefreshCmd": "cat(var_dic_list()) "
    }
   },
   "types_to_exclude": [
    "module",
    "function",
    "builtin_function_or_method",
    "instance",
    "_Feature"
   ],
   "window_display": false
  }
 },
 "nbformat": 4,
 "nbformat_minor": 4
}
