{
 "cells": [
  {
   "cell_type": "markdown",
   "metadata": {},
   "source": [
    "### Import Required Libraries and Set Up Environment Variables"
   ]
  },
  {
   "cell_type": "code",
   "execution_count": 42,
   "metadata": {},
   "outputs": [],
   "source": [
    "# Dependencies\n",
    "import requests\n",
    "import time\n",
    "from dotenv import load_dotenv\n",
    "import os\n",
    "import pandas as pd\n",
    "import json\n",
    "import os\n",
    "from datetime import datetime\n",
    "## Load the NASA_API_KEY from the env file\n",
    "load_dotenv()\n",
    "NASA_API_KEY = os.getenv(\"NASA_API_KEY\")"
   ]
  },
  {
   "cell_type": "markdown",
   "metadata": {},
   "source": [
    "### CME Data"
   ]
  },
  {
   "cell_type": "code",
   "execution_count": 43,
   "metadata": {},
   "outputs": [
    {
     "data": {
      "text/plain": [
       "'https://api.nasa.gov/DONKI/CME?startDate=2013-05-01&endDate=2024-05-01&api_key=gLBn9VpWeVTVGVO51GvWbOoMjX15TF3HohmpvbOj'"
      ]
     },
     "execution_count": 43,
     "metadata": {},
     "output_type": "execute_result"
    }
   ],
   "source": [
    "# Set the base URL to NASA's DONKI API:\n",
    "base_url = \"https://api.nasa.gov/DONKI/\"\n",
    "\n",
    "# Set the specifier for CMEs:\n",
    "CME = \"CME\"\n",
    "\n",
    "# Search for CMEs published between a begin and end date\n",
    "startDate = \"2013-05-01\"\n",
    "end_date   = \"2024-05-01\"\n",
    "\n",
    "# Build URL for CME\n",
    "cme_query_url = f\"{base_url}{CME}?startDate={startDate}&endDate={end_date}&api_key={NASA_API_KEY}\"\n",
    "cme_query_url"
   ]
  },
  {
   "cell_type": "code",
   "execution_count": 44,
   "metadata": {},
   "outputs": [
    {
     "name": "stdout",
     "output_type": "stream",
     "text": [
      "<Response [200]>\n"
     ]
    }
   ],
   "source": [
    "# Make a \"GET\" request for the CME URL and store it in a variable named cme_response\n",
    "cme_response = requests.get(cme_query_url)\n",
    "print(cme_response)"
   ]
  },
  {
   "cell_type": "code",
   "execution_count": 45,
   "metadata": {},
   "outputs": [],
   "source": [
    "# Convert the response variable to json and store it as a variable named cme_json\n",
    "cme_json = cme_response.json()"
   ]
  },
  {
   "cell_type": "code",
   "execution_count": 54,
   "metadata": {
    "scrolled": true
   },
   "outputs": [
    {
     "name": "stdout",
     "output_type": "stream",
     "text": [
      "No result found or 'result' key is not a list.\n"
     ]
    }
   ],
   "source": [
    "# Preview the first result in JSON format\n",
    "\n",
    "if 'results' in cme_json and isinstance(cme_json['result'], list) and len(cme_json['result']) > 0:\n",
    "    # Extract the first result\n",
    "    first_result_cme = cme_json['result'][0]\n",
    "\n",
    "    # Format the first result in JSON with indentation for readability\n",
    "    formatted_first_result_cme = json.dumps(first_result, indent=4)\n",
    "\n",
    "    # Print the formatted first result\n",
    "    print(formatted_first_result_cme)\n",
    "else:\n",
    "    print(\"No result found or 'result' key is not a list.\")\n",
    "\n",
    "# Use json.dumps with argument indent=4 to format data\n",
    "\n",
    "\n"
   ]
  },
  {
   "cell_type": "code",
   "execution_count": 47,
   "metadata": {},
   "outputs": [
    {
     "data": {
      "text/html": [
       "<div>\n",
       "<style scoped>\n",
       "    .dataframe tbody tr th:only-of-type {\n",
       "        vertical-align: middle;\n",
       "    }\n",
       "\n",
       "    .dataframe tbody tr th {\n",
       "        vertical-align: top;\n",
       "    }\n",
       "\n",
       "    .dataframe thead th {\n",
       "        text-align: right;\n",
       "    }\n",
       "</style>\n",
       "<table border=\"1\" class=\"dataframe\">\n",
       "  <thead>\n",
       "    <tr style=\"text-align: right;\">\n",
       "      <th></th>\n",
       "      <th>activityID</th>\n",
       "      <th>startTime</th>\n",
       "      <th>linkedEvents</th>\n",
       "    </tr>\n",
       "  </thead>\n",
       "  <tbody>\n",
       "    <tr>\n",
       "      <th>0</th>\n",
       "      <td>2013-05-01T03:12:00-CME-001</td>\n",
       "      <td>2013-05-01T03:12Z</td>\n",
       "      <td>[{'activityID': '2013-05-04T04:52:00-IPS-001'}]</td>\n",
       "    </tr>\n",
       "    <tr>\n",
       "      <th>4</th>\n",
       "      <td>2013-05-03T22:36:00-CME-001</td>\n",
       "      <td>2013-05-03T22:36Z</td>\n",
       "      <td>[{'activityID': '2013-05-07T04:37:00-IPS-001'}]</td>\n",
       "    </tr>\n",
       "    <tr>\n",
       "      <th>7</th>\n",
       "      <td>2013-05-09T19:29:00-CME-001</td>\n",
       "      <td>2013-05-09T19:29Z</td>\n",
       "      <td>[{'activityID': '2013-05-12T23:30:00-IPS-001'}]</td>\n",
       "    </tr>\n",
       "    <tr>\n",
       "      <th>10</th>\n",
       "      <td>2013-05-13T02:54:00-CME-001</td>\n",
       "      <td>2013-05-13T02:54Z</td>\n",
       "      <td>[{'activityID': '2013-05-13T01:53:00-FLR-001'}...</td>\n",
       "    </tr>\n",
       "    <tr>\n",
       "      <th>13</th>\n",
       "      <td>2013-05-13T16:18:00-CME-001</td>\n",
       "      <td>2013-05-13T16:18Z</td>\n",
       "      <td>[{'activityID': '2013-05-13T15:40:00-FLR-001'}...</td>\n",
       "    </tr>\n",
       "  </tbody>\n",
       "</table>\n",
       "</div>"
      ],
      "text/plain": [
       "                     activityID          startTime  \\\n",
       "0   2013-05-01T03:12:00-CME-001  2013-05-01T03:12Z   \n",
       "4   2013-05-03T22:36:00-CME-001  2013-05-03T22:36Z   \n",
       "7   2013-05-09T19:29:00-CME-001  2013-05-09T19:29Z   \n",
       "10  2013-05-13T02:54:00-CME-001  2013-05-13T02:54Z   \n",
       "13  2013-05-13T16:18:00-CME-001  2013-05-13T16:18Z   \n",
       "\n",
       "                                         linkedEvents  \n",
       "0     [{'activityID': '2013-05-04T04:52:00-IPS-001'}]  \n",
       "4     [{'activityID': '2013-05-07T04:37:00-IPS-001'}]  \n",
       "7     [{'activityID': '2013-05-12T23:30:00-IPS-001'}]  \n",
       "10  [{'activityID': '2013-05-13T01:53:00-FLR-001'}...  \n",
       "13  [{'activityID': '2013-05-13T15:40:00-FLR-001'}...  "
      ]
     },
     "execution_count": 47,
     "metadata": {},
     "output_type": "execute_result"
    }
   ],
   "source": [
    "# Notice that the linkedEvents column allows us to identify the corresponding GST\n",
    "# Remove rows with missing 'linkedEvents' since we won't be able to assign these to GSTs\n",
    "cme = cme.dropna(subset=['linkedEvents'])\n",
    "cme.head()"
   ]
  },
  {
   "cell_type": "code",
   "execution_count": 48,
   "metadata": {},
   "outputs": [
    {
     "ename": "NameError",
     "evalue": "name 'df' is not defined",
     "output_type": "error",
     "traceback": [
      "\u001b[0;31m---------------------------------------------------------------------------\u001b[0m",
      "\u001b[0;31mNameError\u001b[0m                                 Traceback (most recent call last)",
      "Cell \u001b[0;32mIn[48], line 10\u001b[0m\n\u001b[1;32m      7\u001b[0m expanded_rows \u001b[38;5;241m=\u001b[39m []\n\u001b[1;32m      9\u001b[0m \u001b[38;5;66;03m# Iterate over each index in the DataFrame\u001b[39;00m\n\u001b[0;32m---> 10\u001b[0m \u001b[38;5;28;01mfor\u001b[39;00m i \u001b[38;5;129;01min\u001b[39;00m df\u001b[38;5;241m.\u001b[39mindex:\n\u001b[1;32m     12\u001b[0m     activityID       \u001b[38;5;241m=\u001b[39m cme\u001b[38;5;241m.\u001b[39mloc[i, \u001b[38;5;124m'\u001b[39m\u001b[38;5;124mactivityID\u001b[39m\u001b[38;5;124m'\u001b[39m]    \u001b[38;5;66;03m# Get the corresponding value from 'activityID'\u001b[39;00m\n\u001b[1;32m     13\u001b[0m     startTime        \u001b[38;5;241m=\u001b[39m cme\u001b[38;5;241m.\u001b[39mloc[i, \u001b[38;5;124m'\u001b[39m\u001b[38;5;124mstartTime\u001b[39m\u001b[38;5;124m'\u001b[39m]     \u001b[38;5;66;03m# Get the corresponding value from 'startTime'    \u001b[39;00m\n",
      "\u001b[0;31mNameError\u001b[0m: name 'df' is not defined"
     ]
    }
   ],
   "source": [
    "# Notice that the linkedEvents sometimes contains multiple events per row\n",
    "# Write a nested for loop that iterates first over each row in the cme DataFrame (using the index)\n",
    "# and then iterates over the values in 'linkedEvents' \n",
    "# and adds the elements individually to a list of dictionaries where each row is one element \n",
    "\n",
    "# Initialize an empty list to store the expanded rows\n",
    "expanded_rows = []\n",
    "\n",
    "# Iterate over each index in the DataFrame\n",
    "for i in df.index:\n",
    "      \n",
    "    activityID       = cme.loc[i, 'activityID']    # Get the corresponding value from 'activityID'\n",
    "    startTime        = cme.loc[i, 'startTime']     # Get the corresponding value from 'startTime'    \n",
    "    linkedEvents     = cme.loc[i, 'linkedEvents']  # Get the list of dictionaries in 'linkedEvents'\n",
    "\n",
    "    try:\n",
    "\n",
    "        # Iterate over each dictionary in the list\n",
    "        for item in linkedEvents:\n",
    "    \n",
    "        # Append a new dictionary to the expanded_rows list for each dictionary item and corresponding 'activityID' and 'startTime' value\n",
    "         expanded_rows.append({'activityID': activityID, 'startTime': startTime, 'linkedEvents': item})\n",
    "    except:\n",
    "        print('missing activity')\n",
    "        \n",
    "# Create a new DataFrame from the expanded rows\n",
    "cme_for_loop = pd.DataFrame(expanded_rows)\n",
    "cme_for_loop.head()"
   ]
  },
  {
   "cell_type": "code",
   "execution_count": null,
   "metadata": {},
   "outputs": [],
   "source": [
    "# Create a function called extract_activityID_from_dict that takes a dict as input such as in linkedEvents\n",
    "# and verify below that it works as expected using one row from linkedEvents as an example\n",
    "# Be sure to use a try and except block to handle errors\n",
    "\n",
    "def extract_activityID_from_dict(input_dict):\n",
    "\n",
    "    try:\n",
    "        # Attempt to extract the 'activityID' from the input dictionary\n",
    "        return input_dict['activityID']\n",
    "\n",
    "    except (ValueError, TypeError) as e:\n",
    "        # Handle the case where 'activityID' is not found or input is not a dict\n",
    "        return None  \n",
    "\n",
    "        # Log the error or print it for debugging\n",
    "\n",
    "        return\n",
    "\n",
    "extract_activityID_from_dict(cme_for_loop.loc[0,'linkedEvents'])\n"
   ]
  },
  {
   "cell_type": "code",
   "execution_count": null,
   "metadata": {},
   "outputs": [],
   "source": [
    "# Apply this function to each row in the 'linkedEvents' column (you can use apply() and a lambda function)\n",
    "# and create a new column called 'GST_ActivityID' using loc indexer:\n",
    "cme['GST_ActivityID'] = cme['linkedEvents'].apply(lambda x: extract_activityID_from_dict(x) if isinstance(x, dict) else None)\n",
    "cme.loc[:, 'GST_ActivityID'] = cme['linkedEvents'].apply(lambda x: extract_activityID_from_dict(x) if isinstance(x, dict) else None)\n",
    "print(cme[['linkedEvents', 'GST_ActivityID']])"
   ]
  },
  {
   "cell_type": "code",
   "execution_count": null,
   "metadata": {},
   "outputs": [],
   "source": [
    "# Remove rows with missing GST_ActivityID, since we can't assign them to GSTs:\n",
    "cme = cme.dropna(subset=['GST_ActivityID'])\n",
    "print(cme[['linkedEvents', 'GST_ActivityID']])"
   ]
  },
  {
   "cell_type": "code",
   "execution_count": null,
   "metadata": {},
   "outputs": [],
   "source": [
    "# print out the datatype of each column in this DataFrame:\n",
    "print(cme.dtypes)\n"
   ]
  },
  {
   "cell_type": "code",
   "execution_count": null,
   "metadata": {},
   "outputs": [],
   "source": [
    "# Convert the 'GST_ActivityID' column to string format \n",
    "cme['GST_ActivityID'] = cme['GST_ActivityID'].astype(str)\n",
    "print(cme.dtypes)\n",
    "\n",
    "# Convert startTime to datetime format  \n",
    "cme['startTime'] = pd.to_datetime(cme['startTime'])\n",
    "\n",
    "# Rename startTime to startTime_CME and activityID to cmeID\n",
    "cme.rename(columns={'startTime': 'startTime_CME', 'activityID': 'cmeID'}, inplace=True)\n",
    "\n",
    "# Drop linkedEvents\n",
    "cme.drop(columns=['linkedEvents'], inplace=True)\n",
    "\n",
    "# Verify that all steps were executed correctly\n",
    "# 1. Check column names\n",
    "print(\"Column names:\", cme.columns)\n",
    "\n",
    "# 2. Check data types\n",
    "print(\"Data types:\\n\", cme.dtypes)\n",
    "\n",
    "# 3. Check if 'linkedEvents' column is dropped\n",
    "if 'linkedEvents' not in cme.columns:\n",
    "    print(\"'linkedEvents' column has been dropped successfully.\")\n",
    "else:\n",
    "    print(\"'linkedEvents' column is still present.\")\n"
   ]
  },
  {
   "cell_type": "code",
   "execution_count": null,
   "metadata": {},
   "outputs": [],
   "source": [
    "# We are only interested in CMEs related to GSTs so keep only rows where the GST_ActivityID column contains 'GST'\n",
    "# use the method 'contains()' from the str library.  \n",
    "cme = cme[cme['GST_ActivityID'].str.contains('GST', na=False)]\n",
    "print(cme)"
   ]
  },
  {
   "cell_type": "markdown",
   "metadata": {},
   "source": [
    "### GST Data"
   ]
  },
  {
   "cell_type": "code",
   "execution_count": null,
   "metadata": {},
   "outputs": [],
   "source": [
    "# Set the base URL to NASA's DONKI API:\n",
    "base_url = \"https://api.nasa.gov/DONKI/\"\n",
    "\n",
    "# Set the specifier for Geomagnetic Storms (GST):\n",
    "GST = \"GST\"\n",
    "\n",
    "# Search for GSTs between a begin and end date\n",
    "startDate = \"2013-05-01\"\n",
    "end_date   = \"2024-05-01\"\n",
    "\n",
    "# Build URL for GST\n",
    "gst_query_url = f\"{base_url}{GST}?startDate={startDate}&endDate={end_date}&api_key={NASA_API_KEY}\"\n",
    "gst_query_url"
   ]
  },
  {
   "cell_type": "code",
   "execution_count": null,
   "metadata": {},
   "outputs": [],
   "source": [
    "# Make a \"GET\" request for the GST URL and store it in a variable named gst_response\n",
    "gst_response = requests.get(gst_query_url)"
   ]
  },
  {
   "cell_type": "code",
   "execution_count": null,
   "metadata": {},
   "outputs": [],
   "source": [
    "# Convert the response variable to json and store it as a variable named gst_json\n",
    "gst_json = gst_response.json()"
   ]
  },
  {
   "cell_type": "code",
   "execution_count": null,
   "metadata": {},
   "outputs": [],
   "source": [
    "# Convert the response variable to json and store it as a variable named gst_json\n",
    "if 'results' in gst_json and isinstance(cme_json['results'], list) and len(cme_json['results']) > 0:\n",
    "    # Extract the first result\n",
    "    first_result_cme = cme_json['results'][0]\n",
    "\n",
    "    # Format the first result in JSON with indentation for readability\n",
    "    formatted_first_result_cme = json.dumps(first_result, indent=4)\n",
    "\n",
    "    # Print the formatted first result\n",
    "    print(formatted_first_result_cme)\n",
    "else:\n",
    "    print(\"No results found or 'results' key is not a list.\")\n",
    "\n",
    "# Use json.dumps with argument indent=4 to format data\n",
    "json.dumps(cme_json, indent=4)"
   ]
  },
  {
   "cell_type": "code",
   "execution_count": null,
   "metadata": {},
   "outputs": [],
   "source": [
    "# Convert gst_json to a Pandas DataFrame  \n",
    "gst = pd.DataFrame(gst_json)\n",
    "gst.head()\n",
    "# Keep only the columns: activityID, startTime, linkedEvents\n",
    "gst = gst[['activityID', 'startTime', 'linkedEvents']]\n",
    "gst.head()"
   ]
  },
  {
   "cell_type": "code",
   "execution_count": null,
   "metadata": {},
   "outputs": [],
   "source": [
    "# Notice that the linkedEvents column allows us to identify the corresponding CME\n",
    "# Remove rows with missing 'linkedEvents' since we won't be able to assign these to CME\n",
    "gst = gst.dropna(subset=['linkedEvents'])\n",
    "gst.head()"
   ]
  },
  {
   "cell_type": "code",
   "execution_count": null,
   "metadata": {},
   "outputs": [],
   "source": [
    "# Notice that the linkedEvents sometimes contains multiple events per row\n",
    "# Use the explode method to ensure that each row is one element. Ensure to reset the index and drop missing values.\n",
    "gst_exploded = gst.explode('linkedEvents')\n",
    "\n",
    "# Reset the index\n",
    "gst_exploded.reset_index(drop=True, inplace=True)\n",
    "\n",
    "# Drop missing values\n",
    "gst_exploded.dropna(subset=['linkedEvents'], inplace=True)\n",
    "\n",
    "# Display the resulting DataFrame\n",
    "print(gst_exploded)"
   ]
  },
  {
   "cell_type": "code",
   "execution_count": null,
   "metadata": {},
   "outputs": [],
   "source": [
    "# Apply the extract_activityID_from_dict function to each row in the 'linkedEvents' column (you can use apply() and a lambda function)\n",
    "# and create a new column called 'CME_ActivityID' using loc indexer:\n",
    "def extract_activityID_from_dict(input_dict):\n",
    "    try:\n",
    "        return input_dict['activityID']  # Adjust this according to your dictionary structure\n",
    "    except (ValueError, TypeError) as e:\n",
    "        return None  # Return None if there's an error\n",
    "\n",
    "gst_exploded['CME_ActivityID'] = gst_exploded['linkedEvents'].apply(lambda x: extract_activityID_from_dict(x))\n",
    "print(gst_exploded)\n",
    "\n",
    "\n",
    "# Remove rows with missing CME_ActivityID, since we can't assign them to CMEs:\n",
    "gst_exploded.dropna(subset=['CME_ActivityID'], inplace=True)\n",
    "print(gst_exploded)"
   ]
  },
  {
   "cell_type": "code",
   "execution_count": null,
   "metadata": {},
   "outputs": [],
   "source": [
    "# Convert the 'CME_ActivityID' column to string format \n",
    "gst_exploded['CME_ActivityID'] = gst_exploded['CME_ActivityID'].astype(str)\n",
    "print(df_exploded.dtypes)\n",
    "\n",
    "# Convert the 'gstID' column to string format \n",
    "gst_exploded['gstID'] = gst_exploded['gstID'].astype(str)\n",
    "print(df_exploded.dtypes)\n",
    "\n",
    "# Convert startTime to datetime format  \n",
    "gst_exploded['startTime'] = pd.to_datetime(gst_exploded['startTime'])\n",
    "print(gst_exploded.dtypes)\n",
    "\n",
    "# Rename startTime to startTime_GST \n",
    "gst_exploded.rename(columns={'startTime': 'startTime_GST'}, inplace=True)\n",
    "print(\"Column names:\", gst_exploded.columns)\n",
    "\n",
    "# Drop linkedEvents\n",
    "gst.drop(columns=['linkedEvents'], inplace=True)\n",
    "\n",
    "# Verify that all steps were executed correctly\n",
    "# 1. Check column names\n",
    "print(\"Column names:\", gst.columns)\n",
    "\n",
    "# 2. Check data types\n",
    "print(\"Data types:\\n\", gst.dtypes)\n",
    "\n",
    "# 3. Check if 'linkedEvents' column is dropped\n",
    "if 'linkedEvents' not in gst.columns:\n",
    "    print(\"'linkedEvents' column has been dropped successfully.\")\n",
    "else:\n",
    "    print(\"'linkedEvents' column is still present.\")"
   ]
  },
  {
   "cell_type": "code",
   "execution_count": null,
   "metadata": {},
   "outputs": [],
   "source": [
    "# We are only interested in GSTs related to CMEs so keep only rows where the CME_ActivityID column contains 'CME'\n",
    "# use the method 'contains()' from the str library.  \n",
    "gst = gst[gst['cme_ActivityID'].str.contains('cme', na=False)]\n",
    "print(gst)"
   ]
  },
  {
   "cell_type": "markdown",
   "metadata": {},
   "source": [
    "### Merge both datatsets"
   ]
  },
  {
   "cell_type": "code",
   "execution_count": null,
   "metadata": {},
   "outputs": [],
   "source": [
    "# Now merge both datasets using 'gstID' and 'CME_ActivityID' for gst and 'GST_ActivityID' and 'cmeID' for cme. Use the 'left_on' and 'right_on' specifiers.\n",
    "merged_df = pd.merge(gst, cme, \n",
    "                     left_on='CME_ActivityID', \n",
    "                     right_on='gstID', \n",
    "                     how='inner')\n",
    "\n",
    "print(merged_df.shape)"
   ]
  },
  {
   "cell_type": "code",
   "execution_count": null,
   "metadata": {},
   "outputs": [],
   "source": [
    "# Verify that the new DataFrame has the same number of rows as cme and gst\n",
    "# Check the number of rows in the original DataFrames\n",
    "cme_rows = cme.shape[0]\n",
    "gst_rows = gst.shape[0]\n",
    "\n",
    "# Check the number of rows in the merged DataFrame\n",
    "merged_rows = merged_df.shape[0]\n",
    "\n",
    "# Print the results\n",
    "print(f\"Number of rows in cme: {cme_rows}\")\n",
    "print(f\"Number of rows in gst: {gst_rows}\")\n",
    "print(f\"Number of rows in merged DataFrame: {merged_rows}\")\n",
    "\n",
    "# Verify if the number of rows in the merged DataFrame matches the original DataFrames\n",
    "if merged_rows == cme_rows + gst_rows:\n",
    "    print(\"The merged DataFrame has the expected number of rows.\")\n",
    "else:\n",
    "    print(\"The merged DataFrame does not have the expected number of rows.\")"
   ]
  },
  {
   "cell_type": "markdown",
   "metadata": {},
   "source": [
    "### Computing the time it takes for a CME to cause a GST"
   ]
  },
  {
   "cell_type": "code",
   "execution_count": null,
   "metadata": {},
   "outputs": [],
   "source": [
    "# Compute the time diff between startTime_GST and startTime_CME by creating a new column called `timeDiff`.\n",
    "merged_df['startTime_gst'] = pd.to_datetime(df['startTime_gst'])\n",
    "merged_df['startTime_cme'] = pd.to_datetime(df['startTime_cme'])\n",
    "\n",
    "merged_df['timeDiff'] = merged_df['startTime_gst'] - merged_df['startTime_cme']\n",
    "print(merged_df[['startTime_gst', 'startTime_cme', 'timeDiff']].head())\n"
   ]
  },
  {
   "cell_type": "code",
   "execution_count": null,
   "metadata": {},
   "outputs": [],
   "source": [
    "# Use describe() to compute the mean and median time \n",
    "# that it takes for a CME to cause a GST. \n",
    "# Use describe() to compute summary statistics\n",
    "time_diff_stats = merged_df['timeDiff'].describe()\n",
    "\n",
    "# To specifically get the mean and median\n",
    "mean_time_diff = time_diff_stats['mean']\n",
    "median_time_diff = time_diff_stats['50%']  # The 50th percentile is the median\n",
    "\n",
    "print(f\"Mean time difference: {mean_time_diff}\")\n",
    "print(f\"Median time difference: {median_time_diff}\")"
   ]
  },
  {
   "cell_type": "markdown",
   "metadata": {},
   "source": [
    "### Exporting data in csv format"
   ]
  },
  {
   "cell_type": "code",
   "execution_count": null,
   "metadata": {},
   "outputs": [],
   "source": [
    "# Export data to CSV without the index\n",
    "merged_df.to_csv(\"output_file.csv\", index=False)"
   ]
  }
 ],
 "metadata": {
  "kernelspec": {
   "display_name": "Python 3 (ipykernel)",
   "language": "python",
   "name": "python3"
  },
  "language_info": {
   "codemirror_mode": {
    "name": "ipython",
    "version": 3
   },
   "file_extension": ".py",
   "mimetype": "text/x-python",
   "name": "python",
   "nbconvert_exporter": "python",
   "pygments_lexer": "ipython3",
   "version": "3.12.4"
  },
  "varInspector": {
   "cols": {
    "lenName": 16,
    "lenType": 16,
    "lenVar": 40
   },
   "kernels_config": {
    "python": {
     "delete_cmd_postfix": "",
     "delete_cmd_prefix": "del ",
     "library": "var_list.py",
     "varRefreshCmd": "print(var_dic_list())"
    },
    "r": {
     "delete_cmd_postfix": ") ",
     "delete_cmd_prefix": "rm(",
     "library": "var_list.r",
     "varRefreshCmd": "cat(var_dic_list()) "
    }
   },
   "types_to_exclude": [
    "module",
    "function",
    "builtin_function_or_method",
    "instance",
    "_Feature"
   ],
   "window_display": false
  }
 },
 "nbformat": 4,
 "nbformat_minor": 4
}
